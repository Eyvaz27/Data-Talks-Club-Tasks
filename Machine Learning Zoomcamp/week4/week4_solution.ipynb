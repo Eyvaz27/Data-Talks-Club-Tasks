{
 "cells": [
  {
   "cell_type": "markdown",
   "metadata": {},
   "source": [
    "#### Homework Solution for Week 4"
   ]
  },
  {
   "cell_type": "code",
   "execution_count": 1,
   "metadata": {},
   "outputs": [],
   "source": [
    "# !wget https://archive.ics.uci.edu/static/public/222/bank+marketing.zip\n",
    "# !unzip bank+marketing.zip \n",
    "# !unzip bank.zip"
   ]
  },
  {
   "cell_type": "code",
   "execution_count": 2,
   "metadata": {},
   "outputs": [],
   "source": [
    "import numpy as np\n",
    "import pandas as pd\n",
    "import seaborn as sns\n",
    "import matplotlib.pyplot as plt\n",
    "\n",
    "%matplotlib inline"
   ]
  },
  {
   "cell_type": "code",
   "execution_count": 3,
   "metadata": {},
   "outputs": [
    {
     "data": {
      "text/html": [
       "<div>\n",
       "<style scoped>\n",
       "    .dataframe tbody tr th:only-of-type {\n",
       "        vertical-align: middle;\n",
       "    }\n",
       "\n",
       "    .dataframe tbody tr th {\n",
       "        vertical-align: top;\n",
       "    }\n",
       "\n",
       "    .dataframe thead th {\n",
       "        text-align: right;\n",
       "    }\n",
       "</style>\n",
       "<table border=\"1\" class=\"dataframe\">\n",
       "  <thead>\n",
       "    <tr style=\"text-align: right;\">\n",
       "      <th></th>\n",
       "      <th>age</th>\n",
       "      <th>job</th>\n",
       "      <th>marital</th>\n",
       "      <th>education</th>\n",
       "      <th>default</th>\n",
       "      <th>balance</th>\n",
       "      <th>housing</th>\n",
       "      <th>loan</th>\n",
       "      <th>contact</th>\n",
       "      <th>day</th>\n",
       "      <th>month</th>\n",
       "      <th>duration</th>\n",
       "      <th>campaign</th>\n",
       "      <th>pdays</th>\n",
       "      <th>previous</th>\n",
       "      <th>poutcome</th>\n",
       "      <th>y</th>\n",
       "    </tr>\n",
       "  </thead>\n",
       "  <tbody>\n",
       "    <tr>\n",
       "      <th>0</th>\n",
       "      <td>58</td>\n",
       "      <td>management</td>\n",
       "      <td>married</td>\n",
       "      <td>tertiary</td>\n",
       "      <td>no</td>\n",
       "      <td>2143</td>\n",
       "      <td>yes</td>\n",
       "      <td>no</td>\n",
       "      <td>unknown</td>\n",
       "      <td>5</td>\n",
       "      <td>may</td>\n",
       "      <td>261</td>\n",
       "      <td>1</td>\n",
       "      <td>-1</td>\n",
       "      <td>0</td>\n",
       "      <td>unknown</td>\n",
       "      <td>no</td>\n",
       "    </tr>\n",
       "    <tr>\n",
       "      <th>1</th>\n",
       "      <td>44</td>\n",
       "      <td>technician</td>\n",
       "      <td>single</td>\n",
       "      <td>secondary</td>\n",
       "      <td>no</td>\n",
       "      <td>29</td>\n",
       "      <td>yes</td>\n",
       "      <td>no</td>\n",
       "      <td>unknown</td>\n",
       "      <td>5</td>\n",
       "      <td>may</td>\n",
       "      <td>151</td>\n",
       "      <td>1</td>\n",
       "      <td>-1</td>\n",
       "      <td>0</td>\n",
       "      <td>unknown</td>\n",
       "      <td>no</td>\n",
       "    </tr>\n",
       "    <tr>\n",
       "      <th>2</th>\n",
       "      <td>33</td>\n",
       "      <td>entrepreneur</td>\n",
       "      <td>married</td>\n",
       "      <td>secondary</td>\n",
       "      <td>no</td>\n",
       "      <td>2</td>\n",
       "      <td>yes</td>\n",
       "      <td>yes</td>\n",
       "      <td>unknown</td>\n",
       "      <td>5</td>\n",
       "      <td>may</td>\n",
       "      <td>76</td>\n",
       "      <td>1</td>\n",
       "      <td>-1</td>\n",
       "      <td>0</td>\n",
       "      <td>unknown</td>\n",
       "      <td>no</td>\n",
       "    </tr>\n",
       "    <tr>\n",
       "      <th>3</th>\n",
       "      <td>47</td>\n",
       "      <td>blue-collar</td>\n",
       "      <td>married</td>\n",
       "      <td>unknown</td>\n",
       "      <td>no</td>\n",
       "      <td>1506</td>\n",
       "      <td>yes</td>\n",
       "      <td>no</td>\n",
       "      <td>unknown</td>\n",
       "      <td>5</td>\n",
       "      <td>may</td>\n",
       "      <td>92</td>\n",
       "      <td>1</td>\n",
       "      <td>-1</td>\n",
       "      <td>0</td>\n",
       "      <td>unknown</td>\n",
       "      <td>no</td>\n",
       "    </tr>\n",
       "    <tr>\n",
       "      <th>4</th>\n",
       "      <td>33</td>\n",
       "      <td>unknown</td>\n",
       "      <td>single</td>\n",
       "      <td>unknown</td>\n",
       "      <td>no</td>\n",
       "      <td>1</td>\n",
       "      <td>no</td>\n",
       "      <td>no</td>\n",
       "      <td>unknown</td>\n",
       "      <td>5</td>\n",
       "      <td>may</td>\n",
       "      <td>198</td>\n",
       "      <td>1</td>\n",
       "      <td>-1</td>\n",
       "      <td>0</td>\n",
       "      <td>unknown</td>\n",
       "      <td>no</td>\n",
       "    </tr>\n",
       "  </tbody>\n",
       "</table>\n",
       "</div>"
      ],
      "text/plain": [
       "   age           job  marital  education default  balance housing loan  \\\n",
       "0   58    management  married   tertiary      no     2143     yes   no   \n",
       "1   44    technician   single  secondary      no       29     yes   no   \n",
       "2   33  entrepreneur  married  secondary      no        2     yes  yes   \n",
       "3   47   blue-collar  married    unknown      no     1506     yes   no   \n",
       "4   33       unknown   single    unknown      no        1      no   no   \n",
       "\n",
       "   contact  day month  duration  campaign  pdays  previous poutcome   y  \n",
       "0  unknown    5   may       261         1     -1         0  unknown  no  \n",
       "1  unknown    5   may       151         1     -1         0  unknown  no  \n",
       "2  unknown    5   may        76         1     -1         0  unknown  no  \n",
       "3  unknown    5   may        92         1     -1         0  unknown  no  \n",
       "4  unknown    5   may       198         1     -1         0  unknown  no  "
      ]
     },
     "execution_count": 3,
     "metadata": {},
     "output_type": "execute_result"
    }
   ],
   "source": [
    "raw_data = pd.read_csv(\"/app/new/splatter-image/DTC/Machine Learning Zoomcamp/week3/bank-full.csv\", sep=\";\")\n",
    "raw_data.columns = raw_data.columns.str.lower().str.replace(' ', '_')\n",
    "raw_data.head()"
   ]
  },
  {
   "cell_type": "code",
   "execution_count": 4,
   "metadata": {},
   "outputs": [
    {
     "data": {
      "text/html": [
       "<div>\n",
       "<style scoped>\n",
       "    .dataframe tbody tr th:only-of-type {\n",
       "        vertical-align: middle;\n",
       "    }\n",
       "\n",
       "    .dataframe tbody tr th {\n",
       "        vertical-align: top;\n",
       "    }\n",
       "\n",
       "    .dataframe thead th {\n",
       "        text-align: right;\n",
       "    }\n",
       "</style>\n",
       "<table border=\"1\" class=\"dataframe\">\n",
       "  <thead>\n",
       "    <tr style=\"text-align: right;\">\n",
       "      <th></th>\n",
       "      <th>age</th>\n",
       "      <th>job</th>\n",
       "      <th>marital</th>\n",
       "      <th>education</th>\n",
       "      <th>balance</th>\n",
       "      <th>housing</th>\n",
       "      <th>contact</th>\n",
       "      <th>day</th>\n",
       "      <th>month</th>\n",
       "      <th>duration</th>\n",
       "      <th>campaign</th>\n",
       "      <th>pdays</th>\n",
       "      <th>previous</th>\n",
       "      <th>poutcome</th>\n",
       "      <th>y</th>\n",
       "    </tr>\n",
       "  </thead>\n",
       "  <tbody>\n",
       "    <tr>\n",
       "      <th>0</th>\n",
       "      <td>58</td>\n",
       "      <td>management</td>\n",
       "      <td>married</td>\n",
       "      <td>tertiary</td>\n",
       "      <td>2143</td>\n",
       "      <td>yes</td>\n",
       "      <td>unknown</td>\n",
       "      <td>5</td>\n",
       "      <td>may</td>\n",
       "      <td>261</td>\n",
       "      <td>1</td>\n",
       "      <td>-1</td>\n",
       "      <td>0</td>\n",
       "      <td>unknown</td>\n",
       "      <td>no</td>\n",
       "    </tr>\n",
       "    <tr>\n",
       "      <th>1</th>\n",
       "      <td>44</td>\n",
       "      <td>technician</td>\n",
       "      <td>single</td>\n",
       "      <td>secondary</td>\n",
       "      <td>29</td>\n",
       "      <td>yes</td>\n",
       "      <td>unknown</td>\n",
       "      <td>5</td>\n",
       "      <td>may</td>\n",
       "      <td>151</td>\n",
       "      <td>1</td>\n",
       "      <td>-1</td>\n",
       "      <td>0</td>\n",
       "      <td>unknown</td>\n",
       "      <td>no</td>\n",
       "    </tr>\n",
       "    <tr>\n",
       "      <th>2</th>\n",
       "      <td>33</td>\n",
       "      <td>entrepreneur</td>\n",
       "      <td>married</td>\n",
       "      <td>secondary</td>\n",
       "      <td>2</td>\n",
       "      <td>yes</td>\n",
       "      <td>unknown</td>\n",
       "      <td>5</td>\n",
       "      <td>may</td>\n",
       "      <td>76</td>\n",
       "      <td>1</td>\n",
       "      <td>-1</td>\n",
       "      <td>0</td>\n",
       "      <td>unknown</td>\n",
       "      <td>no</td>\n",
       "    </tr>\n",
       "    <tr>\n",
       "      <th>3</th>\n",
       "      <td>47</td>\n",
       "      <td>blue-collar</td>\n",
       "      <td>married</td>\n",
       "      <td>unknown</td>\n",
       "      <td>1506</td>\n",
       "      <td>yes</td>\n",
       "      <td>unknown</td>\n",
       "      <td>5</td>\n",
       "      <td>may</td>\n",
       "      <td>92</td>\n",
       "      <td>1</td>\n",
       "      <td>-1</td>\n",
       "      <td>0</td>\n",
       "      <td>unknown</td>\n",
       "      <td>no</td>\n",
       "    </tr>\n",
       "    <tr>\n",
       "      <th>4</th>\n",
       "      <td>33</td>\n",
       "      <td>unknown</td>\n",
       "      <td>single</td>\n",
       "      <td>unknown</td>\n",
       "      <td>1</td>\n",
       "      <td>no</td>\n",
       "      <td>unknown</td>\n",
       "      <td>5</td>\n",
       "      <td>may</td>\n",
       "      <td>198</td>\n",
       "      <td>1</td>\n",
       "      <td>-1</td>\n",
       "      <td>0</td>\n",
       "      <td>unknown</td>\n",
       "      <td>no</td>\n",
       "    </tr>\n",
       "  </tbody>\n",
       "</table>\n",
       "</div>"
      ],
      "text/plain": [
       "   age           job  marital  education  balance housing  contact  day month  \\\n",
       "0   58    management  married   tertiary     2143     yes  unknown    5   may   \n",
       "1   44    technician   single  secondary       29     yes  unknown    5   may   \n",
       "2   33  entrepreneur  married  secondary        2     yes  unknown    5   may   \n",
       "3   47   blue-collar  married    unknown     1506     yes  unknown    5   may   \n",
       "4   33       unknown   single    unknown        1      no  unknown    5   may   \n",
       "\n",
       "   duration  campaign  pdays  previous poutcome   y  \n",
       "0       261         1     -1         0  unknown  no  \n",
       "1       151         1     -1         0  unknown  no  \n",
       "2        76         1     -1         0  unknown  no  \n",
       "3        92         1     -1         0  unknown  no  \n",
       "4       198         1     -1         0  unknown  no  "
      ]
     },
     "execution_count": 4,
     "metadata": {},
     "output_type": "execute_result"
    }
   ],
   "source": [
    "used_columns = [\"age\", \"job\", \"marital\", \"education\", \"balance\", \n",
    "                \"housing\", \"contact\", \"day\", \"month\", \"duration\", \n",
    "                \"campaign\", \"pdays\", \"previous\", \"poutcome\", \"y\"]\n",
    "sample_data = raw_data.loc[:, used_columns]\n",
    "sample_data.head()"
   ]
  },
  {
   "cell_type": "code",
   "execution_count": 5,
   "metadata": {},
   "outputs": [
    {
     "data": {
      "text/plain": [
       "(array(['job', 'marital', 'education', 'housing', 'contact', 'month',\n",
       "        'poutcome'], dtype=object),\n",
       " array(['age', 'balance', 'day', 'duration', 'campaign', 'pdays',\n",
       "        'previous'], dtype=object))"
      ]
     },
     "execution_count": 5,
     "metadata": {},
     "output_type": "execute_result"
    }
   ],
   "source": [
    "categorical_columns = sample_data.columns[sample_data.dtypes == \"object\"].values[:-1]\n",
    "numerical_columns = sample_data.columns[sample_data.dtypes != \"object\"].values\n",
    "categorical_columns, numerical_columns"
   ]
  },
  {
   "cell_type": "code",
   "execution_count": 6,
   "metadata": {},
   "outputs": [],
   "source": [
    "from sklearn.feature_extraction import DictVectorizer\n",
    "from sklearn.model_selection import train_test_split\n",
    "from sklearn.metrics import roc_auc_score, precision_score, recall_score\n",
    "\n",
    "X = sample_data.iloc[:, :-1]\n",
    "y = sample_data[\"y\"].map({'yes': 1.0, 'no': 0.0})\n",
    "\n",
    "X_full_train, X_test, y_full_train, y_test = train_test_split(X, y, test_size=0.2, random_state=1)\n",
    "X_train, X_val, y_train, y_val = train_test_split(X_full_train, y_full_train, test_size=0.25, random_state=1)\n",
    "\n",
    "X_full_train.reset_index(drop=True, inplace=True)\n",
    "X_train.reset_index(drop=True, inplace=True)\n",
    "X_val.reset_index(drop=True, inplace=True)\n",
    "X_test.reset_index(drop=True, inplace=True)\n",
    "\n",
    "y_full_train.reset_index(drop=True, inplace=True)\n",
    "y_train.reset_index(drop=True, inplace=True)\n",
    "y_val.reset_index(drop=True, inplace=True)\n",
    "y_test.reset_index(drop=True, inplace=True)"
   ]
  },
  {
   "cell_type": "markdown",
   "metadata": {},
   "source": [
    "##### Question 1: ROC AUC feature importance"
   ]
  },
  {
   "cell_type": "code",
   "execution_count": 7,
   "metadata": {},
   "outputs": [
    {
     "name": "stdout",
     "output_type": "stream",
     "text": [
      "[('age', 0.48781428247265596), ('balance', 0.5888313805382317), ('day', 0.474042117616092), ('duration', 0.8147002759670778), ('campaign', 0.42854569843178414), ('pdays', 0.5901276247352144), ('previous', 0.5985653242764153)]\n",
      "Changing sign for [age] column\n",
      "Changing sign for [day] column\n",
      "Changing sign for [campaign] column\n"
     ]
    }
   ],
   "source": [
    "numerical_importance = [roc_auc_score(y_true=y_train, y_score=X_train.loc[:, col]) for col in numerical_columns]\n",
    "numerical_col_importance = list(zip(numerical_columns, numerical_importance))\n",
    "print(numerical_col_importance)\n",
    "for col, imp in numerical_col_importance:\n",
    "    if imp < 0.5:\n",
    "        print(f\"Changing sign for [{col}] column\")\n",
    "        X_train.loc[:, col] *= -1\n",
    "        X_val.loc[:, col] *= -1\n",
    "        X_test.loc[:, col] *= -1"
   ]
  },
  {
   "cell_type": "code",
   "execution_count": 8,
   "metadata": {},
   "outputs": [
    {
     "name": "stdout",
     "output_type": "stream",
     "text": [
      "[duration] column has the highest AUC\n"
     ]
    }
   ],
   "source": [
    "print(f\"[{numerical_columns[np.argmax(numerical_importance)]}] column has the highest AUC\")"
   ]
  },
  {
   "cell_type": "markdown",
   "metadata": {},
   "source": [
    "##### Question 2: Training the model"
   ]
  },
  {
   "cell_type": "code",
   "execution_count": 9,
   "metadata": {},
   "outputs": [
    {
     "data": {
      "text/plain": [
       "array(['age', 'balance', 'campaign', 'contact=cellular',\n",
       "       'contact=telephone', 'contact=unknown', 'day', 'duration',\n",
       "       'education=primary', 'education=secondary', 'education=tertiary',\n",
       "       'education=unknown', 'housing=no', 'housing=yes', 'job=admin.',\n",
       "       'job=blue-collar', 'job=entrepreneur', 'job=housemaid',\n",
       "       'job=management', 'job=retired', 'job=self-employed',\n",
       "       'job=services', 'job=student', 'job=technician', 'job=unemployed',\n",
       "       'job=unknown', 'marital=divorced', 'marital=married',\n",
       "       'marital=single', 'month=apr', 'month=aug', 'month=dec',\n",
       "       'month=feb', 'month=jan', 'month=jul', 'month=jun', 'month=mar',\n",
       "       'month=may', 'month=nov', 'month=oct', 'month=sep', 'pdays',\n",
       "       'poutcome=failure', 'poutcome=other', 'poutcome=success',\n",
       "       'poutcome=unknown', 'previous'], dtype=object)"
      ]
     },
     "execution_count": 9,
     "metadata": {},
     "output_type": "execute_result"
    }
   ],
   "source": [
    "dict_transformer = DictVectorizer(sparse=False)\n",
    "dict_transformer.fit(X_train.to_dict(orient=\"records\"))\n",
    "\n",
    "x_train = dict_transformer.transform(X_train.to_dict(orient=\"records\"))\n",
    "x_val = dict_transformer.transform(X_val.to_dict(orient=\"records\"))\n",
    "x_test = dict_transformer.transform(X_test.to_dict(orient=\"records\"))\n",
    "\n",
    "dict_transformer.get_feature_names_out()"
   ]
  },
  {
   "cell_type": "code",
   "execution_count": 10,
   "metadata": {},
   "outputs": [
    {
     "name": "stdout",
     "output_type": "stream",
     "text": [
      "The AUC of this model on the validation dataset = 0.9\n"
     ]
    }
   ],
   "source": [
    "from sklearn.linear_model import LogisticRegression\n",
    "model = LogisticRegression(solver='liblinear', C=1.0, max_iter=1000)\n",
    "model.fit(x_train, y_train)\n",
    "validation_score = roc_auc_score(y_true=y_val, y_score=model.predict_proba(x_val)[:, 1])\n",
    "print(f\"The AUC of this model on the validation dataset = {np.round(validation_score, decimals=3)}\")\n"
   ]
  },
  {
   "cell_type": "markdown",
   "metadata": {},
   "source": [
    "##### Question 3: Precision and Recall"
   ]
  },
  {
   "cell_type": "code",
   "execution_count": 11,
   "metadata": {},
   "outputs": [
    {
     "name": "stdout",
     "output_type": "stream",
     "text": [
      "At 0.27 threshold point precision and recall curves intersect\n"
     ]
    },
    {
     "data": {
      "text/plain": [
       "<matplotlib.legend.Legend at 0x72f5f7517b80>"
      ]
     },
     "execution_count": 11,
     "metadata": {},
     "output_type": "execute_result"
    },
    {
     "data": {
      "image/png": "[encoded data removed]",
      "text/plain": [
       "<Figure size 640x480 with 1 Axes>"
      ]
     },
     "metadata": {},
     "output_type": "display_data"
    }
   ],
   "source": [
    "thresholds = np.arange(0.0, 1.0, 0.01)\n",
    "y_score_validation = model.predict_proba(x_val)[:, 1]\n",
    "thrs = lambda th: np.array(y_score_validation >= th, dtype=float)\n",
    "\n",
    "precision = np.array([precision_score(y_val, thrs(th)) for th in thresholds])\n",
    "recall = np.array([recall_score(y_val, thrs(th)) for th in thresholds])\n",
    "intersection_point = thresholds[np.argmin(np.abs(precision-recall))]\n",
    "print(f\"At {intersection_point} threshold point precision and recall curves intersect\")\n",
    "\n",
    "plt.plot(thresholds, precision, label=\"precision\")\n",
    "plt.plot(thresholds, recall, label=\"recall\")\n",
    "plt.axvline(x=intersection_point)\n",
    "plt.legend()"
   ]
  },
  {
   "cell_type": "markdown",
   "metadata": {},
   "source": [
    "##### Question 4: F1 score"
   ]
  },
  {
   "cell_type": "code",
   "execution_count": 12,
   "metadata": {},
   "outputs": [
    {
     "name": "stdout",
     "output_type": "stream",
     "text": [
      "At 0.23 threshold point F1 is maximal\n"
     ]
    },
    {
     "data": {
      "text/plain": [
       "<matplotlib.legend.Legend at 0x72f60ef2a950>"
      ]
     },
     "execution_count": 12,
     "metadata": {},
     "output_type": "execute_result"
    },
    {
     "data": {
      "image/png": "[encoded data removed]",
      "text/plain": [
       "<Figure size 640x480 with 1 Axes>"
      ]
     },
     "metadata": {},
     "output_type": "display_data"
    }
   ],
   "source": [
    "thresholds = np.arange(0.0, 1.0, 0.01)\n",
    "y_score_validation = model.predict_proba(x_val)[:, 1]\n",
    "thrs = lambda th: np.array(y_score_validation >= th, dtype=float)\n",
    "\n",
    "precision = np.array([precision_score(y_val, thrs(th)) for th in thresholds])\n",
    "recall = np.array([recall_score(y_val, thrs(th)) for th in thresholds])\n",
    "f1_score = 2*precision*recall/(precision + recall)\n",
    "\n",
    "max_point = thresholds[np.argmax(f1_score)]\n",
    "print(f\"At {max_point} threshold point F1 is maximal\")\n",
    "\n",
    "plt.plot(thresholds, f1_score, label=\"f1_score\")\n",
    "plt.axvline(x=max_point)\n",
    "plt.legend()"
   ]
  },
  {
   "cell_type": "markdown",
   "metadata": {},
   "source": [
    "##### Question 5: 5-Fold CV"
   ]
  },
  {
   "cell_type": "code",
   "execution_count": 13,
   "metadata": {},
   "outputs": [
    {
     "name": "stdout",
     "output_type": "stream",
     "text": [
      "The Validation AUC Score for 0th fold = 0.899\n",
      "The Validation AUC Score for 1th fold = 0.899\n",
      "The Validation AUC Score for 2th fold = 0.911\n",
      "The Validation AUC Score for 3th fold = 0.908\n",
      "The Validation AUC Score for 4th fold = 0.912\n",
      "\n",
      "Mean AUC = 0.9060177360822426 | Std AUC = 0.006\n",
      "\n"
     ]
    }
   ],
   "source": [
    "from sklearn.model_selection import KFold\n",
    "\n",
    "iteration_kf = 5\n",
    "auc_score_history = []\n",
    "\n",
    "kFoldTrain = KFold(n_splits=iteration_kf, shuffle=True, random_state=1)\n",
    "\n",
    "for idx, (train_indx, val_indx) in enumerate(kFoldTrain.split(X_full_train)):\n",
    "    x_fold_train = X_full_train.iloc[train_indx, :]\n",
    "    y_fold_train = y_full_train[train_indx]\n",
    "    \n",
    "    x_fold_val = X_full_train.iloc[val_indx, :]\n",
    "    y_fold_val = y_full_train[val_indx]\n",
    "    \n",
    "    dict_transformer = DictVectorizer(sparse=False)\n",
    "    dict_transformer.fit(x_fold_train.to_dict(orient=\"records\"))\n",
    "    \n",
    "    x_fold_train = dict_transformer.transform(x_fold_train.to_dict(orient=\"records\"))\n",
    "    x_fold_val = dict_transformer.transform(x_fold_val.to_dict(orient=\"records\"))\n",
    "    \n",
    "    model = LogisticRegression(solver='liblinear', C=1.0, max_iter=1000)\n",
    "    model.fit(x_fold_train, y_fold_train)\n",
    "    \n",
    "    validation_score = roc_auc_score(y_true=y_fold_val, y_score=model.predict_proba(x_fold_val)[:, 1])\n",
    "    print(f\"The Validation AUC Score for {idx}th fold = {np.round(validation_score, decimals=3)}\")\n",
    "    \n",
    "    auc_score_history.append(validation_score)\n",
    "    \n",
    "print(f\"\\nMean AUC = {np.mean(auc_score_history)} | Std AUC = {np.round(np.std(auc_score_history), decimals=3)}\\n\")"
   ]
  },
  {
   "cell_type": "markdown",
   "metadata": {},
   "source": [
    "##### Question 6: Hyperparameter Tuning"
   ]
  },
  {
   "cell_type": "code",
   "execution_count": 14,
   "metadata": {},
   "outputs": [],
   "source": [
    "iteration_kf = 5\n",
    "auc_score_history = dict()\n",
    "\n",
    "for lambda_reg in [0.000001, 0.001, 1]:\n",
    "    \n",
    "    kFoldTrain = KFold(n_splits=iteration_kf, shuffle=True, random_state=1)\n",
    "\n",
    "    for idx, (train_indx, val_indx) in enumerate(kFoldTrain.split(X_full_train)):\n",
    "        x_fold_train = X_full_train.iloc[train_indx, :]\n",
    "        y_fold_train = y_full_train[train_indx]\n",
    "        \n",
    "        x_fold_val = X_full_train.iloc[val_indx, :]\n",
    "        y_fold_val = y_full_train[val_indx]\n",
    "        \n",
    "        dict_transformer = DictVectorizer(sparse=False)\n",
    "        dict_transformer.fit(x_fold_train.to_dict(orient=\"records\"))\n",
    "        \n",
    "        x_fold_train = dict_transformer.transform(x_fold_train.to_dict(orient=\"records\"))\n",
    "        x_fold_val = dict_transformer.transform(x_fold_val.to_dict(orient=\"records\"))\n",
    "        \n",
    "        model = LogisticRegression(solver='liblinear', C=lambda_reg, max_iter=1000)\n",
    "        model.fit(x_fold_train, y_fold_train)\n",
    "        \n",
    "        validation_score = roc_auc_score(y_true=y_fold_val, y_score=model.predict_proba(x_fold_val)[:, 1])\n",
    "        \n",
    "        \n",
    "        if lambda_reg in auc_score_history.keys():\n",
    "            auc_score_history[lambda_reg].append(validation_score)\n",
    "        else:\n",
    "            auc_score_history[lambda_reg] = [validation_score]\n",
    "        \n",
    "    print(f\"\\nC=[{lambda_reg}] Mean AUC = {np.mean(auc_score_history[lambda_reg])} | Std AUC = {np.round(np.std(auc_score_history[lambda_reg]), decimals=3)}\\n\")"
   ]
  },
  {
   "cell_type": "markdown",
   "metadata": {},
   "source": [
    "#### End of Task! Looking forward to solving the next assignment"
   ]
  }
 ],
 "metadata": {
  "kernelspec": {
   "display_name": "Python 3",
   "language": "python",
   "name": "python3"
  },
  "language_info": {
   "codemirror_mode": {
    "name": "ipython",
    "version": 3
   },
   "file_extension": ".py",
   "mimetype": "text/x-python",
   "name": "python",
   "nbconvert_exporter": "python",
   "pygments_lexer": "ipython3",
   "version": "3.10.12"
  }
 },
 "nbformat": 4,
 "nbformat_minor": 2
}
