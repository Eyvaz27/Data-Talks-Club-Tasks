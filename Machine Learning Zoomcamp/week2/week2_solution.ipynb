{
 "cells": [
  {
   "cell_type": "markdown",
   "metadata": {},
   "source": [
    "#### Homework Solution for Week 2"
   ]
  },
  {
   "cell_type": "code",
   "execution_count": 1,
   "metadata": {},
   "outputs": [],
   "source": [
    "# !wget https://raw.githubusercontent.com/alexeygrigorev/datasets/master/laptops.csv"
   ]
  },
  {
   "cell_type": "code",
   "execution_count": 2,
   "metadata": {},
   "outputs": [],
   "source": [
    "import numpy as np\n",
    "import pandas as pd\n",
    "import seaborn as sns\n",
    "import matplotlib.pyplot as plt\n",
    "\n",
    "%matplotlib inline"
   ]
  },
  {
   "cell_type": "code",
   "execution_count": 3,
   "metadata": {},
   "outputs": [
    {
     "data": {
      "text/html": [
       "<div>\n",
       "<style scoped>\n",
       "    .dataframe tbody tr th:only-of-type {\n",
       "        vertical-align: middle;\n",
       "    }\n",
       "\n",
       "    .dataframe tbody tr th {\n",
       "        vertical-align: top;\n",
       "    }\n",
       "\n",
       "    .dataframe thead th {\n",
       "        text-align: right;\n",
       "    }\n",
       "</style>\n",
       "<table border=\"1\" class=\"dataframe\">\n",
       "  <thead>\n",
       "    <tr style=\"text-align: right;\">\n",
       "      <th></th>\n",
       "      <th>laptop</th>\n",
       "      <th>status</th>\n",
       "      <th>brand</th>\n",
       "      <th>model</th>\n",
       "      <th>cpu</th>\n",
       "      <th>ram</th>\n",
       "      <th>storage</th>\n",
       "      <th>storage_type</th>\n",
       "      <th>gpu</th>\n",
       "      <th>screen</th>\n",
       "      <th>touch</th>\n",
       "      <th>final_price</th>\n",
       "    </tr>\n",
       "  </thead>\n",
       "  <tbody>\n",
       "    <tr>\n",
       "      <th>0</th>\n",
       "      <td>ASUS ExpertBook B1 B1502CBA-EJ0436X Intel Core...</td>\n",
       "      <td>New</td>\n",
       "      <td>Asus</td>\n",
       "      <td>ExpertBook</td>\n",
       "      <td>Intel Core i5</td>\n",
       "      <td>8</td>\n",
       "      <td>512</td>\n",
       "      <td>SSD</td>\n",
       "      <td>NaN</td>\n",
       "      <td>15.6</td>\n",
       "      <td>No</td>\n",
       "      <td>1009.00</td>\n",
       "    </tr>\n",
       "    <tr>\n",
       "      <th>1</th>\n",
       "      <td>Alurin Go Start Intel Celeron N4020/8GB/256GB ...</td>\n",
       "      <td>New</td>\n",
       "      <td>Alurin</td>\n",
       "      <td>Go</td>\n",
       "      <td>Intel Celeron</td>\n",
       "      <td>8</td>\n",
       "      <td>256</td>\n",
       "      <td>SSD</td>\n",
       "      <td>NaN</td>\n",
       "      <td>15.6</td>\n",
       "      <td>No</td>\n",
       "      <td>299.00</td>\n",
       "    </tr>\n",
       "    <tr>\n",
       "      <th>2</th>\n",
       "      <td>ASUS ExpertBook B1 B1502CBA-EJ0424X Intel Core...</td>\n",
       "      <td>New</td>\n",
       "      <td>Asus</td>\n",
       "      <td>ExpertBook</td>\n",
       "      <td>Intel Core i3</td>\n",
       "      <td>8</td>\n",
       "      <td>256</td>\n",
       "      <td>SSD</td>\n",
       "      <td>NaN</td>\n",
       "      <td>15.6</td>\n",
       "      <td>No</td>\n",
       "      <td>789.00</td>\n",
       "    </tr>\n",
       "    <tr>\n",
       "      <th>3</th>\n",
       "      <td>MSI Katana GF66 12UC-082XES Intel Core i7-1270...</td>\n",
       "      <td>New</td>\n",
       "      <td>MSI</td>\n",
       "      <td>Katana</td>\n",
       "      <td>Intel Core i7</td>\n",
       "      <td>16</td>\n",
       "      <td>1000</td>\n",
       "      <td>SSD</td>\n",
       "      <td>RTX 3050</td>\n",
       "      <td>15.6</td>\n",
       "      <td>No</td>\n",
       "      <td>1199.00</td>\n",
       "    </tr>\n",
       "    <tr>\n",
       "      <th>4</th>\n",
       "      <td>HP 15S-FQ5085NS Intel Core i5-1235U/16GB/512GB...</td>\n",
       "      <td>New</td>\n",
       "      <td>HP</td>\n",
       "      <td>15S</td>\n",
       "      <td>Intel Core i5</td>\n",
       "      <td>16</td>\n",
       "      <td>512</td>\n",
       "      <td>SSD</td>\n",
       "      <td>NaN</td>\n",
       "      <td>15.6</td>\n",
       "      <td>No</td>\n",
       "      <td>669.01</td>\n",
       "    </tr>\n",
       "  </tbody>\n",
       "</table>\n",
       "</div>"
      ],
      "text/plain": [
       "                                              laptop status   brand  \\\n",
       "0  ASUS ExpertBook B1 B1502CBA-EJ0436X Intel Core...    New    Asus   \n",
       "1  Alurin Go Start Intel Celeron N4020/8GB/256GB ...    New  Alurin   \n",
       "2  ASUS ExpertBook B1 B1502CBA-EJ0424X Intel Core...    New    Asus   \n",
       "3  MSI Katana GF66 12UC-082XES Intel Core i7-1270...    New     MSI   \n",
       "4  HP 15S-FQ5085NS Intel Core i5-1235U/16GB/512GB...    New      HP   \n",
       "\n",
       "        model            cpu  ram  storage storage_type       gpu  screen  \\\n",
       "0  ExpertBook  Intel Core i5    8      512          SSD       NaN    15.6   \n",
       "1          Go  Intel Celeron    8      256          SSD       NaN    15.6   \n",
       "2  ExpertBook  Intel Core i3    8      256          SSD       NaN    15.6   \n",
       "3      Katana  Intel Core i7   16     1000          SSD  RTX 3050    15.6   \n",
       "4         15S  Intel Core i5   16      512          SSD       NaN    15.6   \n",
       "\n",
       "  touch  final_price  \n",
       "0    No      1009.00  \n",
       "1    No       299.00  \n",
       "2    No       789.00  \n",
       "3    No      1199.00  \n",
       "4    No       669.01  "
      ]
     },
     "execution_count": 3,
     "metadata": {},
     "output_type": "execute_result"
    }
   ],
   "source": [
    "raw_data = pd.read_csv(\"laptops.csv\")\n",
    "raw_data.columns = raw_data.columns.str.lower().str.replace(' ', '_')\n",
    "raw_data.head()"
   ]
  },
  {
   "cell_type": "code",
   "execution_count": 4,
   "metadata": {},
   "outputs": [
    {
     "data": {
      "text/html": [
       "<div>\n",
       "<style scoped>\n",
       "    .dataframe tbody tr th:only-of-type {\n",
       "        vertical-align: middle;\n",
       "    }\n",
       "\n",
       "    .dataframe tbody tr th {\n",
       "        vertical-align: top;\n",
       "    }\n",
       "\n",
       "    .dataframe thead th {\n",
       "        text-align: right;\n",
       "    }\n",
       "</style>\n",
       "<table border=\"1\" class=\"dataframe\">\n",
       "  <thead>\n",
       "    <tr style=\"text-align: right;\">\n",
       "      <th></th>\n",
       "      <th>ram</th>\n",
       "      <th>storage</th>\n",
       "      <th>screen</th>\n",
       "      <th>final_price</th>\n",
       "    </tr>\n",
       "  </thead>\n",
       "  <tbody>\n",
       "    <tr>\n",
       "      <th>0</th>\n",
       "      <td>8</td>\n",
       "      <td>512</td>\n",
       "      <td>15.6</td>\n",
       "      <td>1009.00</td>\n",
       "    </tr>\n",
       "    <tr>\n",
       "      <th>1</th>\n",
       "      <td>8</td>\n",
       "      <td>256</td>\n",
       "      <td>15.6</td>\n",
       "      <td>299.00</td>\n",
       "    </tr>\n",
       "    <tr>\n",
       "      <th>2</th>\n",
       "      <td>8</td>\n",
       "      <td>256</td>\n",
       "      <td>15.6</td>\n",
       "      <td>789.00</td>\n",
       "    </tr>\n",
       "    <tr>\n",
       "      <th>3</th>\n",
       "      <td>16</td>\n",
       "      <td>1000</td>\n",
       "      <td>15.6</td>\n",
       "      <td>1199.00</td>\n",
       "    </tr>\n",
       "    <tr>\n",
       "      <th>4</th>\n",
       "      <td>16</td>\n",
       "      <td>512</td>\n",
       "      <td>15.6</td>\n",
       "      <td>669.01</td>\n",
       "    </tr>\n",
       "  </tbody>\n",
       "</table>\n",
       "</div>"
      ],
      "text/plain": [
       "   ram  storage  screen  final_price\n",
       "0    8      512    15.6      1009.00\n",
       "1    8      256    15.6       299.00\n",
       "2    8      256    15.6       789.00\n",
       "3   16     1000    15.6      1199.00\n",
       "4   16      512    15.6       669.01"
      ]
     },
     "execution_count": 4,
     "metadata": {},
     "output_type": "execute_result"
    }
   ],
   "source": [
    "used_columns = [\"ram\", \"storage\", \"screen\", \"final_price\"]\n",
    "sample_data = raw_data.loc[:, used_columns]\n",
    "sample_data.head()"
   ]
  },
  {
   "cell_type": "code",
   "execution_count": 5,
   "metadata": {},
   "outputs": [
    {
     "data": {
      "text/plain": [
       "(array([ 14.,  45., 103., 105., 100., 120.,  85., 125., 114., 103.,  80.,\n",
       "         88.,  73.,  56.,  66.,  61.,  47.,  47.,  55.,  33.,  60.,  49.,\n",
       "         44.,  29.,  53.,  44.,  22.,  27.,  23.,  13.,  20.,  16.,   9.,\n",
       "         20.,  15.,  13.,  14.,  13.,  14.,   7.,  13.,  10.,   2.,   5.,\n",
       "          9.,   3.,   9.,  10.,   3.,   2.,  11.,   9.,   5.,   5.,   3.,\n",
       "          0.,   4.,   2.,   4.,   0.,   2.,   3.,   0.,   3.,   2.,   1.,\n",
       "          2.,   1.,   2.,   3.,   0.,   2.,   0.,   0.,   1.,   0.,   0.,\n",
       "          0.,   1.,   1.,   0.,   0.,   0.,   1.,   0.,   0.,   0.,   0.,\n",
       "          0.,   0.,   0.,   0.,   0.,   0.,   0.,   0.,   0.,   0.,   0.,\n",
       "          1.]),\n",
       " array([ 201.05  ,  270.5442,  340.0384,  409.5326,  479.0268,  548.521 ,\n",
       "         618.0152,  687.5094,  757.0036,  826.4978,  895.992 ,  965.4862,\n",
       "        1034.9804, 1104.4746, 1173.9688, 1243.463 , 1312.9572, 1382.4514,\n",
       "        1451.9456, 1521.4398, 1590.934 , 1660.4282, 1729.9224, 1799.4166,\n",
       "        1868.9108, 1938.405 , 2007.8992, 2077.3934, 2146.8876, 2216.3818,\n",
       "        2285.876 , 2355.3702, 2424.8644, 2494.3586, 2563.8528, 2633.347 ,\n",
       "        2702.8412, 2772.3354, 2841.8296, 2911.3238, 2980.818 , 3050.3122,\n",
       "        3119.8064, 3189.3006, 3258.7948, 3328.289 , 3397.7832, 3467.2774,\n",
       "        3536.7716, 3606.2658, 3675.76  , 3745.2542, 3814.7484, 3884.2426,\n",
       "        3953.7368, 4023.231 , 4092.7252, 4162.2194, 4231.7136, 4301.2078,\n",
       "        4370.702 , 4440.1962, 4509.6904, 4579.1846, 4648.6788, 4718.173 ,\n",
       "        4787.6672, 4857.1614, 4926.6556, 4996.1498, 5065.644 , 5135.1382,\n",
       "        5204.6324, 5274.1266, 5343.6208, 5413.115 , 5482.6092, 5552.1034,\n",
       "        5621.5976, 5691.0918, 5760.586 , 5830.0802, 5899.5744, 5969.0686,\n",
       "        6038.5628, 6108.057 , 6177.5512, 6247.0454, 6316.5396, 6386.0338,\n",
       "        6455.528 , 6525.0222, 6594.5164, 6664.0106, 6733.5048, 6802.999 ,\n",
       "        6872.4932, 6941.9874, 7011.4816, 7080.9758, 7150.47  ]),\n",
       " <BarContainer object of 100 artists>)"
      ]
     },
     "execution_count": 5,
     "metadata": {},
     "output_type": "execute_result"
    },
    {
     "data": {
      "image/png": "[encoded data removed]",
      "text/plain": [
       "<Figure size 640x480 with 1 Axes>"
      ]
     },
     "metadata": {},
     "output_type": "display_data"
    }
   ],
   "source": [
    "# # # # # # # # # #   EDA   # # # # # # # # # #  \n",
    "\n",
    "plt.hist(sample_data['final_price'].values, bins=100)\n",
    "\n",
    "# # # so \"final_price\" column has a long tail towards right"
   ]
  },
  {
   "cell_type": "markdown",
   "metadata": {},
   "source": [
    "##### Question 1: There's one column with missing values. What is it?"
   ]
  },
  {
   "cell_type": "code",
   "execution_count": 6,
   "metadata": {},
   "outputs": [
    {
     "name": "stdout",
     "output_type": "stream",
     "text": [
      "Feature with missing values:  screen\n"
     ]
    }
   ],
   "source": [
    "print(\"Feature with missing values: \", sample_data.isnull().sum().index[sample_data.isnull().sum()!=0][0])"
   ]
  },
  {
   "cell_type": "markdown",
   "metadata": {},
   "source": [
    "##### Question 2: What's the median (50% percentile) for variable 'ram'?"
   ]
  },
  {
   "cell_type": "code",
   "execution_count": 7,
   "metadata": {},
   "outputs": [
    {
     "name": "stdout",
     "output_type": "stream",
     "text": [
      "The median (50% percentile) for variable [ram]:  16.0\n"
     ]
    }
   ],
   "source": [
    "print(\"The median (50% percentile) for variable [ram]: \", sample_data[\"ram\"].median())"
   ]
  },
  {
   "cell_type": "markdown",
   "metadata": {},
   "source": [
    "##### Question 3:"
   ]
  },
  {
   "cell_type": "code",
   "execution_count": 8,
   "metadata": {},
   "outputs": [
    {
     "data": {
      "text/plain": [
       "(5, 4)"
      ]
     },
     "execution_count": 8,
     "metadata": {},
     "output_type": "execute_result"
    }
   ],
   "source": [
    "np.concatenate((np.ones((5, 1)), np.ones((5, 3))), axis=1).shape"
   ]
  },
  {
   "cell_type": "code",
   "execution_count": 9,
   "metadata": {},
   "outputs": [],
   "source": [
    "def linear_regression_solve(X, y, reg_lambda=0.0):\n",
    "    X_bias = np.concatenate((np.ones((X.shape[0], 1)), X), axis=1)\n",
    "    return np.linalg.inv(X_bias.T@X_bias + reg_lambda*np.eye(X_bias.shape[1])) @ X_bias.T @ y\n",
    "\n",
    "def run_regression(weights, X):\n",
    "    X_bias = np.concatenate((np.ones((X.shape[0], 1)), X), axis=1)\n",
    "    return X_bias@weights\n",
    "\n",
    "def metric_mse(y_pred, y_true):\n",
    "    return ((y_true-y_pred)**2).mean()\n",
    "\n",
    "def metric_rmse(y_pred, y_true):\n",
    "    return np.sqrt(((y_true-y_pred)**2).mean())\n",
    "\n",
    "def metric_mae(y_pred, y_true):\n",
    "    return np.abs(y_true-y_pred).mean()\n",
    "\n",
    "def regression_analysis(y_pred, y_true):\n",
    "    return metric_mae(y_pred, y_true), metric_mse(y_pred, y_true), metric_rmse(y_pred, y_true)"
   ]
  },
  {
   "cell_type": "code",
   "execution_count": 10,
   "metadata": {},
   "outputs": [
    {
     "data": {
      "text/plain": [
       "((2160, 4), (1296, 4), (432, 4), (432, 4))"
      ]
     },
     "execution_count": 10,
     "metadata": {},
     "output_type": "execute_result"
    }
   ],
   "source": [
    "# # # # # # # # # # # # # # # # # # # # # \n",
    "# # # Prepare and split the dataset # # # \n",
    "# # # # # # # # # # # # # # # # # # # # #\n",
    "np.random.seed(42) \n",
    "random_indexes = np.random.permutation(len(sample_data))\n",
    "# # # # # # # # # # # # # # # # # # # # #\n",
    "train_split, val_split, test_split = np.arange(0, int(0.6*len(sample_data))), np.arange(int(0.6*len(sample_data)), \\\n",
    "    int(0.8*len(sample_data))), np.arange(int(0.8*len(sample_data)), len(sample_data))\n",
    "# # # # # # # # # # # # # # # # # # # # #\n",
    "train_data = sample_data.iloc[random_indexes[train_split], :]\n",
    "val_data = sample_data.iloc[random_indexes[val_split], :]\n",
    "test_data = sample_data.iloc[random_indexes[test_split], :]\n",
    "# # # # # # # # # # # # # # # # # # # # #\n",
    "sample_data.shape, train_data.shape, val_data.shape, test_data.shape"
   ]
  },
  {
   "cell_type": "code",
   "execution_count": 11,
   "metadata": {},
   "outputs": [
    {
     "name": "stdout",
     "output_type": "stream",
     "text": [
      "Option = 0 | MAE = 422.1947336932825 | MSE = 356843.22205359256 | !!! RMSE = 597.36 \n",
      "Option = mean | MAE = 423.66610679766336 | MSE = 360318.1078914411 | !!! RMSE = 600.27 \n",
      "\n",
      "Smaller RMSE is better ==> Filling NaNs with  0  value is better\n"
     ]
    }
   ],
   "source": [
    "options = ['0', 'mean']\n",
    "rmse_history = []\n",
    "# # # final_price is the last column\n",
    "\n",
    "for option in options:\n",
    "    if option == '0':\n",
    "        train_x, train_y = train_data.fillna(0.0).iloc[:, :-1], train_data.iloc[:, -1]\n",
    "        val_x, val_y = val_data.fillna(0.0).iloc[:, :-1], val_data.iloc[:, -1]\n",
    "        test_x, test_y = test_data.fillna(0.0).iloc[:, :-1], test_data.iloc[:, -1]\n",
    "    elif option == 'mean':\n",
    "        train_x, train_y = train_data.fillna(train_data[\"screen\"].mean()).iloc[:, :-1], train_data.iloc[:, -1]\n",
    "        val_x, val_y = val_data.fillna(train_data[\"screen\"].mean()).iloc[:, :-1], val_data.iloc[:, -1]\n",
    "        test_x, test_y = test_data.fillna(train_data[\"screen\"].mean()).iloc[:, :-1], test_data.iloc[:, -1]\n",
    "    else: raise KeyError(\"Required functionality is not coded yet\")\n",
    "    # # # # # # # # # # # # # # # # # # # # # # # # # # # # # # # # # # # # # # # # # #\n",
    "    model_weights = linear_regression_solve(np.array(train_x), np.array(train_y).reshape(-1, 1), reg_lambda=0.0)\n",
    "    y_pred_val = run_regression(model_weights, np.array(val_x))\n",
    "    mae, mse, rmse = regression_analysis(y_pred=y_pred_val, y_true=np.array(val_y).reshape(-1, 1))\n",
    "    print(f\"Option = {option} | MAE = {mae} | MSE = {mse} | !!! RMSE = {np.round(rmse, decimals=2)} \")\n",
    "    rmse_history.append(rmse)\n",
    "\n",
    "choice = options[0] if rmse_history[0]<rmse_history[1] else options[1]\n",
    "print(f\"\\nSmaller RMSE is better ==> Filling NaNs with  {choice}  value is better\")"
   ]
  },
  {
   "cell_type": "markdown",
   "metadata": {},
   "source": [
    "##### Question 4:"
   ]
  },
  {
   "cell_type": "code",
   "execution_count": 12,
   "metadata": {},
   "outputs": [
    {
     "name": "stdout",
     "output_type": "stream",
     "text": [
      "Reg = 0 | MAE = 422.1947336932825 | MSE = 356843.22205359256 | !!! RMSE = 597.36 \n",
      "Reg = 0.01 | MAE = 422.1954944691595 | MSE = 356840.97910466674 | !!! RMSE = 597.36 \n",
      "Reg = 0.1 | MAE = 422.20227909403246 | MSE = 356821.23933479615 | !!! RMSE = 597.35 \n",
      "Reg = 1 | MAE = 422.2982428055759 | MSE = 356662.3181369444 | !!! RMSE = 597.21 \n",
      "Reg = 5 | MAE = 422.833182358473 | MSE = 356422.27576748974 | !!! RMSE = 597.01 \n",
      "Reg = 10 | MAE = 423.2666753517889 | MSE = 356479.1725246226 | !!! RMSE = 597.06 \n",
      "Reg = 100 | MAE = 425.5553530341435 | MSE = 357488.3131739661 | !!! RMSE = 597.9 \n",
      "\n",
      "Smaller RMSE is better ==> Fitting model with lambda = 5 is better\n"
     ]
    }
   ],
   "source": [
    "reg_lambdas = [0, 0.01, 0.1, 1, 5, 10, 100]\n",
    "rmse_history = []\n",
    "\n",
    "# # # # # # # # # # # # # # # # # # # # # # # # # # # # # # # # # # # # # # # # # #\n",
    "train_x, train_y = train_data.fillna(0.0).iloc[:, :-1], train_data.iloc[:, -1]\n",
    "val_x, val_y = val_data.fillna(0.0).iloc[:, :-1], val_data.iloc[:, -1]\n",
    "test_x, test_y = test_data.fillna(0.0).iloc[:, :-1], test_data.iloc[:, -1]\n",
    "    \n",
    "for reg_lambda in reg_lambdas:\n",
    "    # # # # # # # # # # # # # # # # # # # # # # # # # # # # # # # # # # # # # # # # # #\n",
    "    model_weights = linear_regression_solve(np.array(train_x), \n",
    "                                            np.array(train_y).reshape(-1, 1), \n",
    "                                            reg_lambda=reg_lambda)\n",
    "    y_pred_val = run_regression(model_weights, np.array(val_x))\n",
    "    mae, mse, rmse = regression_analysis(y_pred=y_pred_val, y_true=np.array(val_y).reshape(-1, 1))\n",
    "    print(f\"Reg = {reg_lambda} | MAE = {mae} | MSE = {mse} | !!! RMSE = {np.round(rmse, decimals=2)} \")\n",
    "    rmse_history.append(rmse)\n",
    "\n",
    "choice = reg_lambdas[np.argmin(rmse_history)]\n",
    "print(f\"\\nSmaller RMSE is better ==> Fitting model with lambda = {choice} is better\")"
   ]
  },
  {
   "cell_type": "markdown",
   "metadata": {},
   "source": [
    "##### Question 5:"
   ]
  },
  {
   "cell_type": "code",
   "execution_count": 13,
   "metadata": {},
   "outputs": [
    {
     "name": "stdout",
     "output_type": "stream",
     "text": [
      "Option = mean | MAE = 420.5565645834537 | MSE = 319736.0625536705 | !!! RMSE = 565.4520868771027 \n",
      "Option = mean | MAE = 449.8169537707274 | MSE = 405512.3834826295 | !!! RMSE = 636.7985423056726 \n",
      "Option = mean | MAE = 420.1447396309595 | MSE = 346869.01656103326 | !!! RMSE = 588.9558697907962 \n",
      "Option = mean | MAE = 431.7923396154798 | MSE = 357382.64509846875 | !!! RMSE = 597.8148920012521 \n",
      "Option = mean | MAE = 420.59445010637234 | MSE = 327141.4348731722 | !!! RMSE = 571.9627915111018 \n",
      "Option = mean | MAE = 408.4945348440295 | MSE = 328602.17800765275 | !!! RMSE = 573.2383256618949 \n",
      "Option = mean | MAE = 449.3442775259642 | MSE = 419054.03791691514 | !!! RMSE = 647.3438328407209 \n",
      "Option = mean | MAE = 408.0246225822154 | MSE = 302983.9937337225 | !!! RMSE = 550.4398184485952 \n",
      "Option = mean | MAE = 417.7701499098763 | MSE = 344960.64447100996 | !!! RMSE = 587.333503616991 \n",
      "Option = mean | MAE = 409.7958802987377 | MSE = 331893.2758324973 | !!! RMSE = 576.1017929433108 \n",
      "\n",
      "Mean RMSE = 589.5441455997438 | Std RMSE = 29.176\n",
      "\n"
     ]
    }
   ],
   "source": [
    "seeds = [0, 1, 2, 3, 4, 5, 6, 7, 8, 9]\n",
    "\n",
    "rmse_history = []\n",
    "for seed in seeds:\n",
    "    np.random.seed(seed) \n",
    "    random_indexes = np.random.permutation(len(sample_data))\n",
    "    # # # # # # # # # # # # # # # # # # # # # # # # # # # # # # # # # # # # # # # # # #\n",
    "    train_split, val_split, test_split = np.arange(0, int(0.6*len(sample_data))), np.arange(int(0.6*len(sample_data)), \\\n",
    "        int(0.8*len(sample_data))), np.arange(int(0.8*len(sample_data)), len(sample_data))\n",
    "    # # # # # # # # # # # # # # # # # # # # # # # # # # # # # # # # # # # # # # # # # #\n",
    "    train_data = sample_data.iloc[random_indexes[train_split], :]\n",
    "    val_data = sample_data.iloc[random_indexes[val_split], :]\n",
    "    test_data = sample_data.iloc[random_indexes[test_split], :]\n",
    "    # # # # # # # # # # # # # # # # # # # # # # # # # # # # # # # # # # # # # # # # # #\n",
    "    train_x, train_y = train_data.fillna(0.0).iloc[:, :-1], train_data.iloc[:, -1]\n",
    "    val_x, val_y = val_data.fillna(0.0).iloc[:, :-1], val_data.iloc[:, -1]\n",
    "    test_x, test_y = test_data.fillna(0.0).iloc[:, :-1], test_data.iloc[:, -1]\n",
    "    # # # # # # # # # # # # # # # # # # # # # # # # # # # # # # # # # # # # # # # # # #\n",
    "    model_weights = linear_regression_solve(np.array(train_x), np.array(train_y).reshape(-1, 1), reg_lambda=0.0)\n",
    "    y_pred_val = run_regression(model_weights, np.array(val_x))\n",
    "    mae, mse, rmse = regression_analysis(y_pred=y_pred_val, y_true=np.array(val_y).reshape(-1, 1))\n",
    "    print(f\"Option = {option} | MAE = {mae} | MSE = {mse} | !!! RMSE = {rmse} \")\n",
    "    rmse_history.append(rmse)\n",
    "\n",
    "print(f\"\\nMean RMSE = {np.mean(rmse_history)} | Std RMSE = {np.round(np.std(rmse_history), decimals=3)}\\n\")"
   ]
  },
  {
   "cell_type": "markdown",
   "metadata": {},
   "source": [
    "##### Question 6:"
   ]
  },
  {
   "cell_type": "code",
   "execution_count": 14,
   "metadata": {},
   "outputs": [
    {
     "name": "stdout",
     "output_type": "stream",
     "text": [
      "MAE = 434.90181594603126 | MSE = 370406.1104395169 | !!! RMSE = 608.609982204956 \n"
     ]
    }
   ],
   "source": [
    "np.random.seed(9) \n",
    "random_indexes = np.random.permutation(len(sample_data))\n",
    "# # # # # # # # # # # # # # # # # # # # # # # # # # # # # # # # # # # # # # # # # #\n",
    "train_split, val_split, test_split = np.arange(0, int(0.6*len(sample_data))), np.arange(int(0.6*len(sample_data)), \\\n",
    "    int(0.8*len(sample_data))), np.arange(int(0.8*len(sample_data)), len(sample_data))\n",
    "# # # # # # # # # # # # # # # # # # # # # # # # # # # # # # # # # # # # # # # # # #\n",
    "train_data = sample_data.iloc[random_indexes[train_split], :]\n",
    "val_data = sample_data.iloc[random_indexes[val_split], :]\n",
    "test_data = sample_data.iloc[random_indexes[test_split], :]\n",
    "# # # # # # # # # # # # # # # # # # # # # # # # # # # # # # # # # # # # # # # # # #\n",
    "train_x, train_y = train_data.fillna(0.0).iloc[:, :-1], train_data.iloc[:, -1]\n",
    "val_x, val_y = val_data.fillna(0.0).iloc[:, :-1], val_data.iloc[:, -1]\n",
    "test_x, test_y = test_data.fillna(0.0).iloc[:, :-1], test_data.iloc[:, -1]\n",
    "# # # # # # # # # # # # # # # # # # # # # # # # # # # # # # # # # # # # # # # # # #\n",
    "model_weights = linear_regression_solve(np.concatenate((np.array(train_x), np.array(val_x))), \n",
    "                                        np.concatenate((np.array(train_y), np.array(val_y))).reshape(-1, 1),\n",
    "                                        reg_lambda=0.001)\n",
    "y_pred_test = run_regression(model_weights, np.array(test_x))\n",
    "mae, mse, rmse = regression_analysis(y_pred=y_pred_test, y_true=np.array(test_y).reshape(-1, 1))\n",
    "print(f\"MAE = {mae} | MSE = {mse} | !!! RMSE = {rmse} \")"
   ]
  },
  {
   "cell_type": "markdown",
   "metadata": {},
   "source": [
    "#### End of Task! Looking forward to solving the next assignment"
   ]
  }
 ],
 "metadata": {
  "kernelspec": {
   "display_name": "Python 3",
   "language": "python",
   "name": "python3"
  },
  "language_info": {
   "codemirror_mode": {
    "name": "ipython",
    "version": 3
   },
   "file_extension": ".py",
   "mimetype": "text/x-python",
   "name": "python",
   "nbconvert_exporter": "python",
   "pygments_lexer": "ipython3",
   "version": "3.10.6"
  }
 },
 "nbformat": 4,
 "nbformat_minor": 2
}
