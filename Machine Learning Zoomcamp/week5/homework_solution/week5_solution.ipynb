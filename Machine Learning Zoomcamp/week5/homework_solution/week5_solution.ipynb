{
 "cells": [
  {
   "cell_type": "markdown",
   "metadata": {},
   "source": [
    "#### Homework Solution for Week 5"
   ]
  },
  {
   "cell_type": "code",
   "execution_count": 1,
   "metadata": {},
   "outputs": [],
   "source": [
    "import requests\n",
    "import numpy as np\n",
    "import pandas as pd\n",
    "import seaborn as sns\n",
    "import matplotlib.pyplot as plt\n",
    "\n",
    "%matplotlib inline"
   ]
  },
  {
   "cell_type": "code",
   "execution_count": 2,
   "metadata": {},
   "outputs": [
    {
     "name": "stdout",
     "output_type": "stream",
     "text": [
      "Defaulting to user installation because normal site-packages is not writeable\n",
      "Requirement already satisfied: pipenv in /home/vscode/.local/lib/python3.11/site-packages (2024.2.0)\n",
      "Requirement already satisfied: certifi in /home/vscode/.local/lib/python3.11/site-packages (from pipenv) (2024.8.30)\n",
      "Requirement already satisfied: packaging>=22 in /home/vscode/.local/lib/python3.11/site-packages (from pipenv) (24.1)\n",
      "Requirement already satisfied: setuptools>=67 in /usr/local/lib/python3.11/site-packages (from pipenv) (67.8.0)\n",
      "Requirement already satisfied: virtualenv>=20.24.2 in /home/vscode/.local/lib/python3.11/site-packages (from pipenv) (20.27.0)\n",
      "Requirement already satisfied: distlib<1,>=0.3.7 in /home/vscode/.local/lib/python3.11/site-packages (from virtualenv>=20.24.2->pipenv) (0.3.9)\n",
      "Requirement already satisfied: filelock<4,>=3.12.2 in /home/vscode/.local/lib/python3.11/site-packages (from virtualenv>=20.24.2->pipenv) (3.16.1)\n",
      "Requirement already satisfied: platformdirs<5,>=3.9.1 in /home/vscode/.local/lib/python3.11/site-packages (from virtualenv>=20.24.2->pipenv) (4.3.6)\n"
     ]
    }
   ],
   "source": [
    "!python -m pip install --no-cache-dir pipenv"
   ]
  },
  {
   "cell_type": "code",
   "execution_count": 3,
   "metadata": {},
   "outputs": [
    {
     "data": {
      "text/html": [
       "<pre style=\"white-space:pre;overflow-x:auto;line-height:normal;font-family:Menlo,'DejaVu Sans Mono',consolas,'Courier New',monospace\"></pre>\n"
      ],
      "text/plain": []
     },
     "metadata": {},
     "output_type": "display_data"
    },
    {
     "data": {
      "text/plain": [
       "'2024.2.0'"
      ]
     },
     "execution_count": 3,
     "metadata": {},
     "output_type": "execute_result"
    }
   ],
   "source": [
    "import pipenv\n",
    "pipenv.__version__"
   ]
  },
  {
   "cell_type": "markdown",
   "metadata": {},
   "source": [
    "##### Question 2"
   ]
  },
  {
   "cell_type": "code",
   "execution_count": 4,
   "metadata": {},
   "outputs": [],
   "source": [
    "# # # Use Pipenv to install Scikit-Learn version 1.5.2\n",
    "# # # What's the first hash for scikit-learn you get in Pipfile.lock?\n",
    "# # # sha256:03b6158efa3faaf1feea3faa884c840ebd61b6484167c711548fce208ea09445"
   ]
  },
  {
   "cell_type": "markdown",
   "metadata": {},
   "source": [
    "#####  Question 3"
   ]
  },
  {
   "cell_type": "code",
   "execution_count": 5,
   "metadata": {},
   "outputs": [],
   "source": [
    "import pickle\n",
    "\n",
    "dict_transformer_path = \"/workspaces/Data-Talks-Club-Tasks/Machine Learning Zoomcamp/week5/homework_solution/homework/dv.bin\"\n",
    "logR_model_path = \"/workspaces/Data-Talks-Club-Tasks/Machine Learning Zoomcamp/week5/homework_solution/homework/model1.bin\"\n",
    "\n",
    "with open(dict_transformer_path, 'rb') as inF:\n",
    "    dict_transformer = pickle.load(inF)\n",
    "\n",
    "with open(logR_model_path, \"rb\") as inF:\n",
    "    logR_model = pickle.load(inF)"
   ]
  },
  {
   "cell_type": "code",
   "execution_count": 6,
   "metadata": {},
   "outputs": [
    {
     "name": "stdout",
     "output_type": "stream",
     "text": [
      "New customer will churn with probability 0.759\n"
     ]
    }
   ],
   "source": [
    "# # # let's evaluate model on new customer\n",
    "customer = {\"job\": \"management\", \"duration\": 400, \"poutcome\": \"success\"}\n",
    "\n",
    "x_customer = dict_transformer.transform([customer])\n",
    "churn_prediction = np.round(logR_model.predict_proba(x_customer)[0, 1], decimals=3)\n",
    "print(f\"New customer will churn with probability {churn_prediction}\")"
   ]
  },
  {
   "cell_type": "markdown",
   "metadata": {},
   "source": [
    "##### Question 4"
   ]
  },
  {
   "cell_type": "code",
   "execution_count": 9,
   "metadata": {},
   "outputs": [
    {
     "data": {
      "text/plain": [
       "{'Decision': False, 'Probability': 0.335, 'is_valid': True}"
      ]
     },
     "execution_count": 9,
     "metadata": {},
     "output_type": "execute_result"
    }
   ],
   "source": [
    "url = \"https://animated-space-enigma-7pj67v69pwvfx6rp-9696.app.github.dev/predict\"\n",
    "client = {\"job\": \"student\", \"duration\": 280, \"poutcome\": \"failure\"}\n",
    "requests.post(url, json=client).json()"
   ]
  },
  {
   "cell_type": "markdown",
   "metadata": {},
   "source": [
    "##### Question 5"
   ]
  },
  {
   "cell_type": "code",
   "execution_count": null,
   "metadata": {},
   "outputs": [],
   "source": []
  }
 ],
 "metadata": {
  "kernelspec": {
   "display_name": "Python 3",
   "language": "python",
   "name": "python3"
  },
  "language_info": {
   "codemirror_mode": {
    "name": "ipython",
    "version": 3
   },
   "file_extension": ".py",
   "mimetype": "text/x-python",
   "name": "python",
   "nbconvert_exporter": "python",
   "pygments_lexer": "ipython3",
   "version": "3.11.4"
  }
 },
 "nbformat": 4,
 "nbformat_minor": 2
}
