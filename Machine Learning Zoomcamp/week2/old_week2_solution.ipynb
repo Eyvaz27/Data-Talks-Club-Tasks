{
 "cells": [
  {
   "cell_type": "code",
   "execution_count": 1,
   "metadata": {},
   "outputs": [],
   "source": [
    "import numpy as np\n",
    "import pandas as pd\n",
    "import matplotlib.pyplot as plt\n",
    "import seaborn as sns\n",
    "\n",
    "%matplotlib inline"
   ]
  },
  {
   "cell_type": "markdown",
   "metadata": {},
   "source": [
    "#### Exploratory Data Analysis"
   ]
  },
  {
   "cell_type": "code",
   "execution_count": 2,
   "metadata": {},
   "outputs": [
    {
     "name": "stdout",
     "output_type": "stream",
     "text": [
      "<class 'pandas.core.frame.DataFrame'>\n",
      "RangeIndex: 20640 entries, 0 to 20639\n",
      "Data columns (total 10 columns):\n",
      " #   Column              Non-Null Count  Dtype  \n",
      "---  ------              --------------  -----  \n",
      " 0   longitude           20640 non-null  float64\n",
      " 1   latitude            20640 non-null  float64\n",
      " 2   housing_median_age  20640 non-null  float64\n",
      " 3   total_rooms         20640 non-null  float64\n",
      " 4   total_bedrooms      20433 non-null  float64\n",
      " 5   population          20640 non-null  float64\n",
      " 6   households          20640 non-null  float64\n",
      " 7   median_income       20640 non-null  float64\n",
      " 8   median_house_value  20640 non-null  float64\n",
      " 9   ocean_proximity     20640 non-null  object \n",
      "dtypes: float64(9), object(1)\n",
      "memory usage: 1.6+ MB\n"
     ]
    }
   ],
   "source": [
    "raw_data = pd.read_csv(\"housing.csv\")\n",
    "raw_data.info()"
   ]
  },
  {
   "cell_type": "code",
   "execution_count": 3,
   "metadata": {},
   "outputs": [
    {
     "data": {
      "text/plain": [
       "longitude               0\n",
       "latitude                0\n",
       "housing_median_age      0\n",
       "total_rooms             0\n",
       "total_bedrooms        207\n",
       "population              0\n",
       "households              0\n",
       "median_income           0\n",
       "median_house_value      0\n",
       "ocean_proximity         0\n",
       "dtype: int64"
      ]
     },
     "execution_count": 3,
     "metadata": {},
     "output_type": "execute_result"
    }
   ],
   "source": [
    "raw_data.isnull().sum()"
   ]
  },
  {
   "cell_type": "code",
   "execution_count": 4,
   "metadata": {},
   "outputs": [
    {
     "data": {
      "text/html": [
       "<div>\n",
       "<style scoped>\n",
       "    .dataframe tbody tr th:only-of-type {\n",
       "        vertical-align: middle;\n",
       "    }\n",
       "\n",
       "    .dataframe tbody tr th {\n",
       "        vertical-align: top;\n",
       "    }\n",
       "\n",
       "    .dataframe thead th {\n",
       "        text-align: right;\n",
       "    }\n",
       "</style>\n",
       "<table border=\"1\" class=\"dataframe\">\n",
       "  <thead>\n",
       "    <tr style=\"text-align: right;\">\n",
       "      <th></th>\n",
       "      <th>longitude</th>\n",
       "      <th>latitude</th>\n",
       "      <th>housing_median_age</th>\n",
       "      <th>total_rooms</th>\n",
       "      <th>total_bedrooms</th>\n",
       "      <th>population</th>\n",
       "      <th>households</th>\n",
       "      <th>median_income</th>\n",
       "      <th>median_house_value</th>\n",
       "    </tr>\n",
       "  </thead>\n",
       "  <tbody>\n",
       "    <tr>\n",
       "      <th>count</th>\n",
       "      <td>20640.000000</td>\n",
       "      <td>20640.000000</td>\n",
       "      <td>20640.000000</td>\n",
       "      <td>20640.000000</td>\n",
       "      <td>20433.000000</td>\n",
       "      <td>20640.000000</td>\n",
       "      <td>20640.000000</td>\n",
       "      <td>20640.000000</td>\n",
       "      <td>20640.000000</td>\n",
       "    </tr>\n",
       "    <tr>\n",
       "      <th>mean</th>\n",
       "      <td>-119.569704</td>\n",
       "      <td>35.631861</td>\n",
       "      <td>28.639486</td>\n",
       "      <td>2635.763081</td>\n",
       "      <td>537.870553</td>\n",
       "      <td>1425.476744</td>\n",
       "      <td>499.539680</td>\n",
       "      <td>3.870671</td>\n",
       "      <td>206855.816909</td>\n",
       "    </tr>\n",
       "    <tr>\n",
       "      <th>std</th>\n",
       "      <td>2.003532</td>\n",
       "      <td>2.135952</td>\n",
       "      <td>12.585558</td>\n",
       "      <td>2181.615252</td>\n",
       "      <td>421.385070</td>\n",
       "      <td>1132.462122</td>\n",
       "      <td>382.329753</td>\n",
       "      <td>1.899822</td>\n",
       "      <td>115395.615874</td>\n",
       "    </tr>\n",
       "    <tr>\n",
       "      <th>min</th>\n",
       "      <td>-124.350000</td>\n",
       "      <td>32.540000</td>\n",
       "      <td>1.000000</td>\n",
       "      <td>2.000000</td>\n",
       "      <td>1.000000</td>\n",
       "      <td>3.000000</td>\n",
       "      <td>1.000000</td>\n",
       "      <td>0.499900</td>\n",
       "      <td>14999.000000</td>\n",
       "    </tr>\n",
       "    <tr>\n",
       "      <th>25%</th>\n",
       "      <td>-121.800000</td>\n",
       "      <td>33.930000</td>\n",
       "      <td>18.000000</td>\n",
       "      <td>1447.750000</td>\n",
       "      <td>296.000000</td>\n",
       "      <td>787.000000</td>\n",
       "      <td>280.000000</td>\n",
       "      <td>2.563400</td>\n",
       "      <td>119600.000000</td>\n",
       "    </tr>\n",
       "    <tr>\n",
       "      <th>50%</th>\n",
       "      <td>-118.490000</td>\n",
       "      <td>34.260000</td>\n",
       "      <td>29.000000</td>\n",
       "      <td>2127.000000</td>\n",
       "      <td>435.000000</td>\n",
       "      <td>1166.000000</td>\n",
       "      <td>409.000000</td>\n",
       "      <td>3.534800</td>\n",
       "      <td>179700.000000</td>\n",
       "    </tr>\n",
       "    <tr>\n",
       "      <th>75%</th>\n",
       "      <td>-118.010000</td>\n",
       "      <td>37.710000</td>\n",
       "      <td>37.000000</td>\n",
       "      <td>3148.000000</td>\n",
       "      <td>647.000000</td>\n",
       "      <td>1725.000000</td>\n",
       "      <td>605.000000</td>\n",
       "      <td>4.743250</td>\n",
       "      <td>264725.000000</td>\n",
       "    </tr>\n",
       "    <tr>\n",
       "      <th>max</th>\n",
       "      <td>-114.310000</td>\n",
       "      <td>41.950000</td>\n",
       "      <td>52.000000</td>\n",
       "      <td>39320.000000</td>\n",
       "      <td>6445.000000</td>\n",
       "      <td>35682.000000</td>\n",
       "      <td>6082.000000</td>\n",
       "      <td>15.000100</td>\n",
       "      <td>500001.000000</td>\n",
       "    </tr>\n",
       "  </tbody>\n",
       "</table>\n",
       "</div>"
      ],
      "text/plain": [
       "          longitude      latitude  housing_median_age   total_rooms  \\\n",
       "count  20640.000000  20640.000000        20640.000000  20640.000000   \n",
       "mean    -119.569704     35.631861           28.639486   2635.763081   \n",
       "std        2.003532      2.135952           12.585558   2181.615252   \n",
       "min     -124.350000     32.540000            1.000000      2.000000   \n",
       "25%     -121.800000     33.930000           18.000000   1447.750000   \n",
       "50%     -118.490000     34.260000           29.000000   2127.000000   \n",
       "75%     -118.010000     37.710000           37.000000   3148.000000   \n",
       "max     -114.310000     41.950000           52.000000  39320.000000   \n",
       "\n",
       "       total_bedrooms    population    households  median_income  \\\n",
       "count    20433.000000  20640.000000  20640.000000   20640.000000   \n",
       "mean       537.870553   1425.476744    499.539680       3.870671   \n",
       "std        421.385070   1132.462122    382.329753       1.899822   \n",
       "min          1.000000      3.000000      1.000000       0.499900   \n",
       "25%        296.000000    787.000000    280.000000       2.563400   \n",
       "50%        435.000000   1166.000000    409.000000       3.534800   \n",
       "75%        647.000000   1725.000000    605.000000       4.743250   \n",
       "max       6445.000000  35682.000000   6082.000000      15.000100   \n",
       "\n",
       "       median_house_value  \n",
       "count        20640.000000  \n",
       "mean        206855.816909  \n",
       "std         115395.615874  \n",
       "min          14999.000000  \n",
       "25%         119600.000000  \n",
       "50%         179700.000000  \n",
       "75%         264725.000000  \n",
       "max         500001.000000  "
      ]
     },
     "execution_count": 4,
     "metadata": {},
     "output_type": "execute_result"
    }
   ],
   "source": [
    "raw_data.describe()#['median_house_value']"
   ]
  },
  {
   "cell_type": "code",
   "execution_count": 5,
   "metadata": {},
   "outputs": [
    {
     "data": {
      "text/plain": [
       "(array([   5.,    4.,    5.,    9.,   13.,   48.,   90.,  165.,  274.,\n",
       "         264.,  323.,  353.,  258.,  288.,  406.,  397.,  482.,  399.,\n",
       "         337.,  369.,  453.,  359.,  360.,  355.,  351.,  485.,  428.,\n",
       "         387.,  419.,  502.,  563.,  397.,  442.,  344.,  407.,  410.,\n",
       "         403.,  300.,  252.,  253.,  303.,  317.,  303.,  358.,  310.,\n",
       "         268.,  272.,  236.,  227.,  210.,  200.,  234.,  223.,  240.,\n",
       "         173.,  158.,  167.,  153.,  112.,  104.,   99.,  125.,  105.,\n",
       "         127.,  111.,  134.,  118.,  134.,  107.,  179.,   91.,  102.,\n",
       "          94.,   66.,   82.,   67.,   65.,   52.,   69.,   64.,   48.,\n",
       "          56.,   47.,   52.,   41.,   39.,   50.,   40.,   44.,   62.,\n",
       "          33.,   33.,   22.,   27.,   29.,   22.,   30.,   17.,   19.,\n",
       "        1011.]),\n",
       " array([ 14999.  ,  19849.02,  24699.04,  29549.06,  34399.08,  39249.1 ,\n",
       "         44099.12,  48949.14,  53799.16,  58649.18,  63499.2 ,  68349.22,\n",
       "         73199.24,  78049.26,  82899.28,  87749.3 ,  92599.32,  97449.34,\n",
       "        102299.36, 107149.38, 111999.4 , 116849.42, 121699.44, 126549.46,\n",
       "        131399.48, 136249.5 , 141099.52, 145949.54, 150799.56, 155649.58,\n",
       "        160499.6 , 165349.62, 170199.64, 175049.66, 179899.68, 184749.7 ,\n",
       "        189599.72, 194449.74, 199299.76, 204149.78, 208999.8 , 213849.82,\n",
       "        218699.84, 223549.86, 228399.88, 233249.9 , 238099.92, 242949.94,\n",
       "        247799.96, 252649.98, 257500.  , 262350.02, 267200.04, 272050.06,\n",
       "        276900.08, 281750.1 , 286600.12, 291450.14, 296300.16, 301150.18,\n",
       "        306000.2 , 310850.22, 315700.24, 320550.26, 325400.28, 330250.3 ,\n",
       "        335100.32, 339950.34, 344800.36, 349650.38, 354500.4 , 359350.42,\n",
       "        364200.44, 369050.46, 373900.48, 378750.5 , 383600.52, 388450.54,\n",
       "        393300.56, 398150.58, 403000.6 , 407850.62, 412700.64, 417550.66,\n",
       "        422400.68, 427250.7 , 432100.72, 436950.74, 441800.76, 446650.78,\n",
       "        451500.8 , 456350.82, 461200.84, 466050.86, 470900.88, 475750.9 ,\n",
       "        480600.92, 485450.94, 490300.96, 495150.98, 500001.  ]),\n",
       " <BarContainer object of 100 artists>)"
      ]
     },
     "execution_count": 5,
     "metadata": {},
     "output_type": "execute_result"
    },
    {
     "data": {
      "image/png": "[encoded data removed]",
      "text/plain": [
       "<Figure size 640x480 with 1 Axes>"
      ]
     },
     "metadata": {},
     "output_type": "display_data"
    }
   ],
   "source": [
    "plt.hist(raw_data['median_house_value'].values, bins=100)"
   ]
  },
  {
   "cell_type": "code",
   "execution_count": 6,
   "metadata": {},
   "outputs": [
    {
     "data": {
      "text/plain": [
       "ocean_proximity\n",
       "<1H OCEAN     9136\n",
       "INLAND        6551\n",
       "NEAR OCEAN    2658\n",
       "NEAR BAY      2290\n",
       "ISLAND           5\n",
       "Name: count, dtype: int64"
      ]
     },
     "execution_count": 6,
     "metadata": {},
     "output_type": "execute_result"
    }
   ],
   "source": [
    "raw_data[\"ocean_proximity\"].value_counts()"
   ]
  },
  {
   "cell_type": "code",
   "execution_count": 7,
   "metadata": {},
   "outputs": [],
   "source": [
    "columns = ['latitude', 'longitude', 'housing_median_age', \n",
    "           'total_rooms', 'total_bedrooms', 'population',\n",
    "           'households', 'median_income', 'median_house_value']\n",
    "\n",
    "sample_data = raw_data[(raw_data[\"ocean_proximity\"]==\"<1H OCEAN\") | (raw_data[\"ocean_proximity\"]==\"INLAND\")].loc[:, columns]\n"
   ]
  },
  {
   "cell_type": "markdown",
   "metadata": {},
   "source": [
    "#### HomeWork Solutions"
   ]
  },
  {
   "cell_type": "markdown",
   "metadata": {},
   "source": [
    "##### Question 1: There's one feature with missing values. What is it?"
   ]
  },
  {
   "cell_type": "code",
   "execution_count": 8,
   "metadata": {},
   "outputs": [
    {
     "name": "stdout",
     "output_type": "stream",
     "text": [
      "Feature with missing values:  total_bedrooms\n"
     ]
    }
   ],
   "source": [
    "print(\"Feature with missing values: \", sample_data.isnull().sum().index[sample_data.isnull().sum()!=0][0])"
   ]
  },
  {
   "cell_type": "markdown",
   "metadata": {},
   "source": [
    "##### Question 2: What's the median (50% percentile) for variable 'population'?"
   ]
  },
  {
   "cell_type": "code",
   "execution_count": 9,
   "metadata": {},
   "outputs": [
    {
     "name": "stdout",
     "output_type": "stream",
     "text": [
      "The median (50% percentile) for variable [population]:  1195.0\n"
     ]
    }
   ],
   "source": [
    "print(\"The median (50% percentile) for variable [population]: \", sample_data[\"population\"].median())"
   ]
  },
  {
   "cell_type": "code",
   "execution_count": 10,
   "metadata": {},
   "outputs": [
    {
     "data": {
      "text/plain": [
       "((15687, 9), (9412, 9), (3137, 9), (3138, 9))"
      ]
     },
     "execution_count": 10,
     "metadata": {},
     "output_type": "execute_result"
    }
   ],
   "source": [
    "# # # # # # # # # # # # # # # # # # # # # \n",
    "# # # Prepare and split the dataset # # # \n",
    "# # # # # # # # # # # # # # # # # # # # #\n",
    "np.random.seed(42) \n",
    "random_indexes = np.random.permutation(len(sample_data))\n",
    "# # # # # # # # # # # # # # # # # # # # #\n",
    "train_split, val_split, test_split = np.arange(0, int(0.6*len(sample_data))), np.arange(int(0.6*len(sample_data)), \\\n",
    "    int(0.8*len(sample_data))), np.arange(int(0.8*len(sample_data)), len(sample_data))\n",
    "# # # # # # # # # # # # # # # # # # # # #\n",
    "sample_data[\"median_house_value\"] = np.log1p(sample_data[\"median_house_value\"].values)\n",
    "# # # # # # # # # # # # # # # # # # # # #\n",
    "train_data = sample_data.iloc[random_indexes[train_split], :]\n",
    "val_data = sample_data.iloc[random_indexes[val_split], :]\n",
    "test_data = sample_data.iloc[random_indexes[test_split], :]\n",
    "# # # # # # # # # # # # # # # # # # # # #\n",
    "sample_data.shape, train_data.shape, val_data.shape, test_data.shape"
   ]
  },
  {
   "cell_type": "code",
   "execution_count": 11,
   "metadata": {},
   "outputs": [
    {
     "data": {
      "text/plain": [
       "Index(['latitude', 'longitude', 'housing_median_age', 'total_rooms',\n",
       "       'total_bedrooms', 'population', 'households', 'median_income',\n",
       "       'median_house_value'],\n",
       "      dtype='object')"
      ]
     },
     "execution_count": 11,
     "metadata": {},
     "output_type": "execute_result"
    }
   ],
   "source": [
    "sample_data.columns"
   ]
  },
  {
   "cell_type": "markdown",
   "metadata": {},
   "source": [
    "##### Question 3: "
   ]
  },
  {
   "cell_type": "code",
   "execution_count": 12,
   "metadata": {},
   "outputs": [],
   "source": [
    "def linear_regression_solve(X, y, reg_lambda=0.0):\n",
    "    return np.linalg.inv(X.T@X + reg_lambda*np.eye(X.shape[1])) @ X.T @ y\n",
    "\n",
    "def metric_mse(y_pred, y_true):\n",
    "    return ((y_true-y_pred)**2).mean()\n",
    "\n",
    "def metric_rmse(y_pred, y_true):\n",
    "    return np.sqrt(((y_true-y_pred)**2).mean())\n",
    "\n",
    "def metric_mae(y_pred, y_true):\n",
    "    return np.abs(y_true-y_pred).mean()\n",
    "\n",
    "def regression_analysis(y_pred, y_true):\n",
    "    return metric_mae(y_pred, y_true), metric_mse(y_pred, y_true), metric_rmse(y_pred, y_true)"
   ]
  },
  {
   "cell_type": "code",
   "execution_count": 13,
   "metadata": {},
   "outputs": [
    {
     "name": "stdout",
     "output_type": "stream",
     "text": [
      "Option = 0 | MAE = 0.26481080189054546 | MSE = 0.12183077085942966 | !!! RMSE = 0.34904264905514004 \n",
      "Option = mean | MAE = 0.2646372269652296 | MSE = 0.12173148238119563 | !!! RMSE = 0.34890039034256703 \n"
     ]
    }
   ],
   "source": [
    "options = ['0', 'mean']\n",
    "\n",
    "for option in options:\n",
    "    if option == '0':\n",
    "        train_x, train_y = train_data.fillna(0.0).iloc[:, :-1], train_data.iloc[:, -1]\n",
    "        val_x, val_y = val_data.fillna(0.0).iloc[:, :-1], val_data.iloc[:, -1]\n",
    "        test_x, test_y = test_data.fillna(0.0).iloc[:, :-1], test_data.iloc[:, -1]\n",
    "    elif option == 'mean':\n",
    "        train_x, train_y = train_data.fillna(train_data[\"total_bedrooms\"].mean()).iloc[:, :-1], train_data.iloc[:, -1]\n",
    "        val_x, val_y = val_data.fillna(train_data[\"total_bedrooms\"].mean()).iloc[:, :-1], val_data.iloc[:, -1]\n",
    "        test_x, test_y = test_data.fillna(train_data[\"total_bedrooms\"].mean()).iloc[:, :-1], test_data.iloc[:, -1]\n",
    "    else: raise KeyError(\"Required functionality is not coded yet\")\n",
    "    # # # # # # # # # # # # # # # # # # # # # # # # # # # # # # # # # # # # # # # # # #\n",
    "    model_weights = linear_regression_solve(np.array(train_x), np.array(train_y).reshape(-1, 1))\n",
    "    y_pred_val = np.array(val_x) @ model_weights\n",
    "    mae, mse, rmse = regression_analysis(y_pred=y_pred_val, y_true=np.array(val_y).reshape(-1, 1))\n",
    "    print(f\"Option = {option} | MAE = {mae} | MSE = {mse} | !!! RMSE = {rmse} \")\n",
    "\n",
    "# # # Both options are equally good"
   ]
  },
  {
   "cell_type": "markdown",
   "metadata": {},
   "source": [
    "##### Question 4:"
   ]
  },
  {
   "cell_type": "code",
   "execution_count": 14,
   "metadata": {},
   "outputs": [
    {
     "name": "stdout",
     "output_type": "stream",
     "text": [
      "Reg = 0 | MAE = 0.26481080189054546 | MSE = 0.12183077085942966 | !!! RMSE = 0.35 \n",
      "Reg = 1e-06 | MAE = 0.2648108018908419 | MSE = 0.12183077085951295 | !!! RMSE = 0.35 \n",
      "Reg = 0.0001 | MAE = 0.2648108019224606 | MSE = 0.1218307708689273 | !!! RMSE = 0.35 \n",
      "Reg = 0.001 | MAE = 0.2648108022095188 | MSE = 0.1218307709540948 | !!! RMSE = 0.35 \n",
      "Reg = 0.01 | MAE = 0.2648108050802353 | MSE = 0.1218307718060566 | !!! RMSE = 0.35 \n",
      "Reg = 0.1 | MAE = 0.2648108337878169 | MSE = 0.12183078032878086 | !!! RMSE = 0.35 \n",
      "Reg = 1 | MAE = 0.26481112086048597 | MSE = 0.12183086584816058 | !!! RMSE = 0.35 \n",
      "Reg = 5 | MAE = 0.26481239667168377 | MSE = 0.12183125235630013 | !!! RMSE = 0.35 \n",
      "Reg = 10 | MAE = 0.26481399128071365 | MSE = 0.12183175022521568 | !!! RMSE = 0.35 \n"
     ]
    }
   ],
   "source": [
    "reg_lambdas = [0, 0.000001, 0.0001, 0.001, 0.01, 0.1, 1, 5, 10]\n",
    "\n",
    "# # # # # # # # # # # # # # # # # # # # # # # # # # # # # # # # # # # # # # # # # #\n",
    "train_x, train_y = train_data.fillna(0.0).iloc[:, :-1], train_data.iloc[:, -1]\n",
    "val_x, val_y = val_data.fillna(0.0).iloc[:, :-1], val_data.iloc[:, -1]\n",
    "test_x, test_y = test_data.fillna(0.0).iloc[:, :-1], test_data.iloc[:, -1]\n",
    "    \n",
    "for reg_lambda in reg_lambdas:\n",
    "    # # # # # # # # # # # # # # # # # # # # # # # # # # # # # # # # # # # # # # # # # #\n",
    "    model_weights = linear_regression_solve(np.array(train_x), \n",
    "                                            np.array(train_y).reshape(-1, 1), \n",
    "                                            reg_lambda=reg_lambda)\n",
    "    y_pred_val = np.array(val_x) @ model_weights\n",
    "    mae, mse, rmse = regression_analysis(y_pred=y_pred_val, y_true=np.array(val_y).reshape(-1, 1))\n",
    "    print(f\"Reg = {reg_lambda} | MAE = {mae} | MSE = {mse} | !!! RMSE = {np.round(rmse, decimals=2)} \")"
   ]
  },
  {
   "cell_type": "markdown",
   "metadata": {},
   "source": [
    "##### Question 5:"
   ]
  },
  {
   "cell_type": "code",
   "execution_count": 15,
   "metadata": {},
   "outputs": [
    {
     "name": "stdout",
     "output_type": "stream",
     "text": [
      "Option = mean | MAE = 0.020263180313618855 | MSE = 0.0007261700621445223 | !!! RMSE = 0.026947542784909392 \n",
      "Option = mean | MAE = 0.006870501453235042 | MSE = 8.441219832495817e-05 | !!! RMSE = 0.009187611132658922 \n",
      "Option = mean | MAE = 0.003954633192441747 | MSE = 2.8972891568647557e-05 | !!! RMSE = 0.005382647264000081 \n",
      "Option = mean | MAE = 0.0027990812358006057 | MSE = 1.4839354029765102e-05 | !!! RMSE = 0.003852188213180283 \n",
      "Option = mean | MAE = 0.0021540220622224943 | MSE = 8.974624226874857e-06 | !!! RMSE = 0.002995767719112224 \n",
      "Option = mean | MAE = 0.001803629159247273 | MSE = 6.568482277472377e-06 | !!! RMSE = 0.0025629050465189648 \n",
      "Option = mean | MAE = 0.0015270793121282102 | MSE = 4.599198755679378e-06 | !!! RMSE = 0.0021445742597726424 \n",
      "Option = mean | MAE = 0.0013464618356048839 | MSE = 3.6542986632986793e-06 | !!! RMSE = 0.0019116219980159987 \n",
      "Option = mean | MAE = 0.0011788560793224042 | MSE = 2.8534799780926344e-06 | !!! RMSE = 0.0016892246677374311 \n",
      "Option = mean | MAE = 0.0010452546137395679 | MSE = 2.262410986265988e-06 | !!! RMSE = 0.0015041313061917127 \n",
      "\n",
      "Mean RMSE = 0.005817821439209765 | Std RMSE = 0.007\n",
      "\n"
     ]
    }
   ],
   "source": [
    "seeds = [0, 1, 2, 3, 4, 5, 6, 7, 8, 9]\n",
    "\n",
    "rmse_history = []\n",
    "for seed in seeds:\n",
    "    np.random.seed(seed) \n",
    "    random_indexes = np.random.permutation(len(sample_data))\n",
    "    # # # # # # # # # # # # # # # # # # # # # # # # # # # # # # # # # # # # # # # # # #\n",
    "    train_split, val_split, test_split = np.arange(0, int(0.6*len(sample_data))), np.arange(int(0.6*len(sample_data)), \\\n",
    "        int(0.8*len(sample_data))), np.arange(int(0.8*len(sample_data)), len(sample_data))\n",
    "    # # # # # # # # # # # # # # # # # # # # # # # # # # # # # # # # # # # # # # # # # #\n",
    "    sample_data[\"median_house_value\"] = np.log1p(sample_data[\"median_house_value\"].values)\n",
    "    # # # # # # # # # # # # # # # # # # # # # # # # # # # # # # # # # # # # # # # # # #\n",
    "    train_data = sample_data.iloc[random_indexes[train_split], :]\n",
    "    val_data = sample_data.iloc[random_indexes[val_split], :]\n",
    "    test_data = sample_data.iloc[random_indexes[test_split], :]\n",
    "    # # # # # # # # # # # # # # # # # # # # # # # # # # # # # # # # # # # # # # # # # #\n",
    "    train_x, train_y = train_data.fillna(0.0).iloc[:, :-1], train_data.iloc[:, -1]\n",
    "    val_x, val_y = val_data.fillna(0.0).iloc[:, :-1], val_data.iloc[:, -1]\n",
    "    test_x, test_y = test_data.fillna(0.0).iloc[:, :-1], test_data.iloc[:, -1]\n",
    "    # # # # # # # # # # # # # # # # # # # # # # # # # # # # # # # # # # # # # # # # # #\n",
    "    model_weights = linear_regression_solve(np.array(train_x), np.array(train_y).reshape(-1, 1))\n",
    "    y_pred_val = np.array(val_x) @ model_weights\n",
    "    mae, mse, rmse = regression_analysis(y_pred=y_pred_val, y_true=np.array(val_y).reshape(-1, 1))\n",
    "    print(f\"Option = {option} | MAE = {mae} | MSE = {mse} | !!! RMSE = {rmse} \")\n",
    "    rmse_history.append(rmse)\n",
    "\n",
    "print(f\"\\nMean RMSE = {np.mean(rmse_history)} | Std RMSE = {np.round(np.std(rmse_history), decimals=3)}\\n\")"
   ]
  },
  {
   "cell_type": "markdown",
   "metadata": {},
   "source": [
    "##### Question 6:"
   ]
  },
  {
   "cell_type": "code",
   "execution_count": 16,
   "metadata": {},
   "outputs": [
    {
     "data": {
      "text/plain": [
       "(12549, 8)"
      ]
     },
     "execution_count": 16,
     "metadata": {},
     "output_type": "execute_result"
    }
   ],
   "source": [
    "np.concatenate((np.array(train_x), np.array(val_x))).shape"
   ]
  },
  {
   "cell_type": "code",
   "execution_count": 17,
   "metadata": {},
   "outputs": [
    {
     "name": "stdout",
     "output_type": "stream",
     "text": [
      "MAE = 0.0009545322243542516 | MSE = 1.8067538053582778e-06 | !!! RMSE = 0.0013441554245541242 \n"
     ]
    }
   ],
   "source": [
    "np.random.seed(9) \n",
    "random_indexes = np.random.permutation(len(sample_data))\n",
    "# # # # # # # # # # # # # # # # # # # # # # # # # # # # # # # # # # # # # # # # # #\n",
    "train_split, val_split, test_split = np.arange(0, int(0.6*len(sample_data))), np.arange(int(0.6*len(sample_data)), \\\n",
    "    int(0.8*len(sample_data))), np.arange(int(0.8*len(sample_data)), len(sample_data))\n",
    "# # # # # # # # # # # # # # # # # # # # # # # # # # # # # # # # # # # # # # # # # #\n",
    "sample_data[\"median_house_value\"] = np.log1p(sample_data[\"median_house_value\"].values)\n",
    "# # # # # # # # # # # # # # # # # # # # # # # # # # # # # # # # # # # # # # # # # #\n",
    "train_data = sample_data.iloc[random_indexes[train_split], :]\n",
    "val_data = sample_data.iloc[random_indexes[val_split], :]\n",
    "test_data = sample_data.iloc[random_indexes[test_split], :]\n",
    "# # # # # # # # # # # # # # # # # # # # # # # # # # # # # # # # # # # # # # # # # #\n",
    "train_x, train_y = train_data.fillna(0.0).iloc[:, :-1], train_data.iloc[:, -1]\n",
    "val_x, val_y = val_data.fillna(0.0).iloc[:, :-1], val_data.iloc[:, -1]\n",
    "test_x, test_y = test_data.fillna(0.0).iloc[:, :-1], test_data.iloc[:, -1]\n",
    "# # # # # # # # # # # # # # # # # # # # # # # # # # # # # # # # # # # # # # # # # #\n",
    "model_weights = linear_regression_solve(np.concatenate((np.array(train_x), np.array(val_x))), \n",
    "                                        np.concatenate((np.array(train_y), np.array(val_y))).reshape(-1, 1),\n",
    "                                        reg_lambda=0.001)\n",
    "y_pred_test = np.array(test_x) @ model_weights\n",
    "mae, mse, rmse = regression_analysis(y_pred=y_pred_test, y_true=np.array(test_y).reshape(-1, 1))\n",
    "print(f\"MAE = {mae} | MSE = {mse} | !!! RMSE = {rmse} \")"
   ]
  },
  {
   "cell_type": "code",
   "execution_count": null,
   "metadata": {},
   "outputs": [],
   "source": []
  }
 ],
 "metadata": {
  "kernelspec": {
   "display_name": "Python 3",
   "language": "python",
   "name": "python3"
  },
  "language_info": {
   "codemirror_mode": {
    "name": "ipython",
    "version": 3
   },
   "file_extension": ".py",
   "mimetype": "text/x-python",
   "name": "python",
   "nbconvert_exporter": "python",
   "pygments_lexer": "ipython3",
   "version": "3.10.6"
  }
 },
 "nbformat": 4,
 "nbformat_minor": 2
}
