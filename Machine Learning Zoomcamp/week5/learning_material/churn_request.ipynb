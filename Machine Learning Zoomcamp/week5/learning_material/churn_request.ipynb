{
 "cells": [
  {
   "cell_type": "code",
   "execution_count": null,
   "metadata": {},
   "outputs": [],
   "source": [
    "%autosave 0"
   ]
  },
  {
   "cell_type": "code",
   "execution_count": null,
   "metadata": {},
   "outputs": [],
   "source": [
    "import requests"
   ]
  },
  {
   "cell_type": "code",
   "execution_count": null,
   "metadata": {},
   "outputs": [],
   "source": [
    "default_customer = {\n",
    "    \"gender\": \"female\",\n",
    "    \"seniorcitizen\": 0,\n",
    "    \"partner\": \"yes\",\n",
    "    \"dependents\": \"no\",\n",
    "    \"phoneservice\": \"no\",\n",
    "    \"multiplelines\": \"no_phone_service\",\n",
    "    \"internetservice\": \"dsl\",\n",
    "    \"onlinesecurity\": \"no\",\n",
    "    \"onlinebackup\": \"yes\",\n",
    "    \"deviceprotection\": \"no\",\n",
    "    \"techsupport\": \"no\",\n",
    "    \"streamingtv\": \"no\",\n",
    "    \"streamingmovies\": \"no\",\n",
    "    \"contract\": \"month-to-month\",\n",
    "    \"paperlessbilling\": \"yes\",\n",
    "    \"paymentmethod\": \"electronic_check\",\n",
    "    \"tenure\": 24,\n",
    "    \"monthlycharges\": 29.85,\n",
    "    \"totalcharges\": (24 * 29.85)\n",
    "}\n",
    "\n",
    "url = \"http://localhost:9696/predict\""
   ]
  },
  {
   "cell_type": "code",
   "execution_count": null,
   "metadata": {},
   "outputs": [],
   "source": [
    "requests.post(url, json=default_customer).json()"
   ]
  },
  {
   "cell_type": "code",
   "execution_count": null,
   "metadata": {},
   "outputs": [],
   "source": []
  }
 ],
 "metadata": {
  "kernelspec": {
   "display_name": "Python 3 (ipykernel)",
   "language": "python",
   "name": "python3"
  },
  "language_info": {
   "codemirror_mode": {
    "name": "ipython",
    "version": 3
   },
   "file_extension": ".py",
   "mimetype": "text/x-python",
   "name": "python",
   "nbconvert_exporter": "python",
   "pygments_lexer": "ipython3",
   "version": "3.10.6"
  }
 },
 "nbformat": 4,
 "nbformat_minor": 2
}
