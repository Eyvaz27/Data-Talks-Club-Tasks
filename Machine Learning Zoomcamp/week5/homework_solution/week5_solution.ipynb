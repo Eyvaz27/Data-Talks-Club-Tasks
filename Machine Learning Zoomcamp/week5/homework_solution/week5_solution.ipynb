{
 "cells": [
  {
   "cell_type": "markdown",
   "metadata": {},
   "source": [
    "#### Homework Solution for Week 5"
   ]
  },
  {
   "cell_type": "code",
   "execution_count": 1,
   "metadata": {},
   "outputs": [],
   "source": [
    "import numpy as np\n",
    "import pandas as pd\n",
    "import seaborn as sns\n",
    "import matplotlib.pyplot as plt\n",
    "\n",
    "%matplotlib inline"
   ]
  },
  {
   "cell_type": "code",
   "execution_count": 2,
   "metadata": {},
   "outputs": [
    {
     "name": "stdout",
     "output_type": "stream",
     "text": [
      "Requirement already satisfied: pipenv in /usr/local/python/3.12.1/lib/python3.12/site-packages (2024.2.0)\n",
      "Requirement already satisfied: certifi in /home/codespace/.local/lib/python3.12/site-packages (from pipenv) (2024.8.30)\n",
      "Requirement already satisfied: packaging>=22 in /home/codespace/.local/lib/python3.12/site-packages (from pipenv) (24.1)\n",
      "Requirement already satisfied: setuptools>=67 in /home/codespace/.local/lib/python3.12/site-packages (from pipenv) (75.1.0)\n",
      "Requirement already satisfied: virtualenv>=20.24.2 in /usr/local/python/3.12.1/lib/python3.12/site-packages (from pipenv) (20.27.0)\n",
      "Requirement already satisfied: distlib<1,>=0.3.7 in /usr/local/python/3.12.1/lib/python3.12/site-packages (from virtualenv>=20.24.2->pipenv) (0.3.9)\n",
      "Requirement already satisfied: filelock<4,>=3.12.2 in /home/codespace/.local/lib/python3.12/site-packages (from virtualenv>=20.24.2->pipenv) (3.13.1)\n",
      "Requirement already satisfied: platformdirs<5,>=3.9.1 in /home/codespace/.local/lib/python3.12/site-packages (from virtualenv>=20.24.2->pipenv) (4.3.6)\n"
     ]
    }
   ],
   "source": [
    "!python -m pip install --no-cache-dir pipenv"
   ]
  },
  {
   "cell_type": "code",
   "execution_count": 3,
   "metadata": {},
   "outputs": [
    {
     "data": {
      "text/html": [
       "<pre style=\"white-space:pre;overflow-x:auto;line-height:normal;font-family:Menlo,'DejaVu Sans Mono',consolas,'Courier New',monospace\"></pre>\n"
      ],
      "text/plain": []
     },
     "metadata": {},
     "output_type": "display_data"
    },
    {
     "data": {
      "text/plain": [
       "'2024.2.0'"
      ]
     },
     "execution_count": 3,
     "metadata": {},
     "output_type": "execute_result"
    }
   ],
   "source": [
    "import pipenv\n",
    "pipenv.__version__"
   ]
  },
  {
   "cell_type": "markdown",
   "metadata": {},
   "source": [
    "##### Question 2"
   ]
  },
  {
   "cell_type": "code",
   "execution_count": 5,
   "metadata": {},
   "outputs": [],
   "source": [
    "# # # Use Pipenv to install Scikit-Learn version 1.5.2\n",
    "# # # What's the first hash for scikit-learn you get in Pipfile.lock?\n",
    "# # # sha256:03b6158efa3faaf1feea3faa884c840ebd61b6484167c711548fce208ea09445"
   ]
  },
  {
   "cell_type": "markdown",
   "metadata": {},
   "source": [
    "#####  Question 3"
   ]
  },
  {
   "cell_type": "code",
   "execution_count": 16,
   "metadata": {},
   "outputs": [
    {
     "ename": "UnpicklingError",
     "evalue": "invalid load key, '\\x0a'.",
     "output_type": "error",
     "traceback": [
      "\u001b[0;31m---------------------------------------------------------------------------\u001b[0m",
      "\u001b[0;31mUnpicklingError\u001b[0m                           Traceback (most recent call last)",
      "Cell \u001b[0;32mIn[16], line 7\u001b[0m\n\u001b[1;32m      4\u001b[0m logR_model_path \u001b[38;5;241m=\u001b[39m \u001b[38;5;124m\"\u001b[39m\u001b[38;5;124m/workspaces/Data-Talks-Club-Tasks/Machine Learning Zoomcamp/week5/homework_solution/homework/model1.bin\u001b[39m\u001b[38;5;124m\"\u001b[39m\n\u001b[1;32m      6\u001b[0m \u001b[38;5;28;01mwith\u001b[39;00m \u001b[38;5;28mopen\u001b[39m(dict_transformer_path, \u001b[38;5;124m'\u001b[39m\u001b[38;5;124mrb\u001b[39m\u001b[38;5;124m'\u001b[39m) \u001b[38;5;28;01mas\u001b[39;00m inF:\n\u001b[0;32m----> 7\u001b[0m     \u001b[43mpickle\u001b[49m\u001b[38;5;241;43m.\u001b[39;49m\u001b[43mload\u001b[49m\u001b[43m(\u001b[49m\u001b[43minF\u001b[49m\u001b[43m)\u001b[49m\n\u001b[1;32m      9\u001b[0m \u001b[38;5;28;01mwith\u001b[39;00m \u001b[38;5;28mopen\u001b[39m(logR_model_path, \u001b[38;5;124m\"\u001b[39m\u001b[38;5;124mrb\u001b[39m\u001b[38;5;124m\"\u001b[39m) \u001b[38;5;28;01mas\u001b[39;00m inF:\n\u001b[1;32m     10\u001b[0m     [logR_model] \u001b[38;5;241m=\u001b[39m pickle\u001b[38;5;241m.\u001b[39mload(inF)\n",
      "\u001b[0;31mUnpicklingError\u001b[0m: invalid load key, '\\x0a'."
     ]
    }
   ],
   "source": [
    "import gzip, pickle\n",
    "\n",
    "dict_transformer_path = \"/workspaces/Data-Talks-Club-Tasks/Machine Learning Zoomcamp/week5/homework_solution/homework/dv.bin\"\n",
    "logR_model_path = \"/workspaces/Data-Talks-Club-Tasks/Machine Learning Zoomcamp/week5/homework_solution/homework/model1.bin\"\n",
    "\n",
    "with open(dict_transformer_path, 'rb') as inF:\n",
    "    pickle.load(inF)\n",
    "\n",
    "with open(logR_model_path, \"rb\") as inF:\n",
    "    [logR_model] = pickle.load(inF)"
   ]
  },
  {
   "cell_type": "code",
   "execution_count": null,
   "metadata": {},
   "outputs": [],
   "source": []
  }
 ],
 "metadata": {
  "kernelspec": {
   "display_name": "Python 3",
   "language": "python",
   "name": "python3"
  },
  "language_info": {
   "codemirror_mode": {
    "name": "ipython",
    "version": 3
   },
   "file_extension": ".py",
   "mimetype": "text/x-python",
   "name": "python",
   "nbconvert_exporter": "python",
   "pygments_lexer": "ipython3",
   "version": "3.12.1"
  }
 },
 "nbformat": 4,
 "nbformat_minor": 2
}
